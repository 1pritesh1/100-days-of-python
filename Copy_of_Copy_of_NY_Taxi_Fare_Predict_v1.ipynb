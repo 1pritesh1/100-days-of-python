{
  "nbformat": 4,
  "nbformat_minor": 5,
  "metadata": {
    "kernelspec": {
      "display_name": "Python 3",
      "language": "python",
      "name": "python3"
    },
    "language_info": {
      "codemirror_mode": {
        "name": "ipython",
        "version": 3
      },
      "file_extension": ".py",
      "mimetype": "text/x-python",
      "name": "python",
      "nbconvert_exporter": "python",
      "pygments_lexer": "ipython3",
      "version": "3.8.8"
    },
    "colab": {
      "name": "Copy of Copy of NY_Taxi_Fare_Predict_v1.ipynb",
      "provenance": [],
      "include_colab_link": true
    }
  },
  "cells": [
    {
      "cell_type": "markdown",
      "metadata": {
        "id": "view-in-github",
        "colab_type": "text"
      },
      "source": [
        "<a href=\"https://colab.research.google.com/github/1pritesh1/100-days-of-python/blob/master/Copy_of_Copy_of_NY_Taxi_Fare_Predict_v1.ipynb\" target=\"_parent\"><img src=\"https://colab.research.google.com/assets/colab-badge.svg\" alt=\"Open In Colab\"/></a>"
      ]
    },
    {
      "cell_type": "code",
      "metadata": {
        "id": "2948590b"
      },
      "source": [
        "0# Jovian Commit Essentials\n",
        "# Please retain and execute this cell without modifying the contents for `jovian.commit` to work\n",
        "!pip install jovian --upgrade -q\n",
        "import jovian\n",
        "jovian.set_project('project-3-ny-taxi-fare-prediction')\n",
        "jovian.set_colab_id('1XdgSCYQ9x3k00cPd1PWNXyenvpkrZwgq')"
      ],
      "id": "2948590b",
      "execution_count": null,
      "outputs": []
    },
    {
      "cell_type": "code",
      "metadata": {
        "id": "979683ce"
      },
      "source": [
        "import pandas as pd\n",
        "import numpy as np\n",
        "!pip install pyarrow --upgrade --quiet"
      ],
      "id": "979683ce",
      "execution_count": null,
      "outputs": []
    },
    {
      "cell_type": "code",
      "metadata": {
        "colab": {
          "base_uri": "https://localhost:8080/"
        },
        "id": "egyUFlNPocIH",
        "outputId": "61d488fa-b317-49be-90b7-0d2dadd3b036"
      },
      "source": [
        "from google.colab import drive\n",
        "drive.mount('/content/drive')"
      ],
      "id": "egyUFlNPocIH",
      "execution_count": null,
      "outputs": [
        {
          "output_type": "stream",
          "text": [
            "Drive already mounted at /content/drive; to attempt to forcibly remount, call drive.mount(\"/content/drive\", force_remount=True).\n"
          ],
          "name": "stdout"
        }
      ]
    },
    {
      "cell_type": "code",
      "metadata": {
        "id": "b4ddab0c"
      },
      "source": [
        "import matplotlib.pyplot as plt"
      ],
      "id": "b4ddab0c",
      "execution_count": null,
      "outputs": []
    },
    {
      "cell_type": "code",
      "metadata": {
        "id": "62e4f0aa"
      },
      "source": [
        "train = '/content/drive/MyDrive/train.csv'\n",
        "test = '/content/drive/MyDrive/test.csv'"
      ],
      "id": "62e4f0aa",
      "execution_count": null,
      "outputs": []
    },
    {
      "cell_type": "code",
      "metadata": {
        "colab": {
          "base_uri": "https://localhost:8080/"
        },
        "id": "eb53fe90",
        "outputId": "88e03860-13f1-4267-9e6a-459e09efe961"
      },
      "source": [
        "%%time\n",
        "df = pd.read_csv(train ,nrows = 400000)"
      ],
      "id": "eb53fe90",
      "execution_count": null,
      "outputs": [
        {
          "output_type": "stream",
          "text": [
            "CPU times: user 715 ms, sys: 63.2 ms, total: 778 ms\n",
            "Wall time: 817 ms\n"
          ],
          "name": "stdout"
        }
      ]
    },
    {
      "cell_type": "code",
      "metadata": {
        "colab": {
          "base_uri": "https://localhost:8080/"
        },
        "id": "761335ea",
        "outputId": "f53406c9-a8f2-4a6b-aa2d-2ac9d6b76d25"
      },
      "source": [
        "%%time\n",
        "test_df = pd.read_csv(test)"
      ],
      "id": "761335ea",
      "execution_count": null,
      "outputs": [
        {
          "output_type": "stream",
          "text": [
            "CPU times: user 19.7 ms, sys: 994 µs, total: 20.7 ms\n",
            "Wall time: 23.2 ms\n"
          ],
          "name": "stdout"
        }
      ]
    },
    {
      "cell_type": "code",
      "metadata": {
        "colab": {
          "base_uri": "https://localhost:8080/"
        },
        "id": "4ecefc77",
        "outputId": "53bba544-9161-461b-eed6-b6ea3530cd13"
      },
      "source": [
        "test_df.columns"
      ],
      "id": "4ecefc77",
      "execution_count": null,
      "outputs": [
        {
          "output_type": "execute_result",
          "data": {
            "text/plain": [
              "Index(['key', 'pickup_datetime', 'pickup_longitude', 'pickup_latitude',\n",
              "       'dropoff_longitude', 'dropoff_latitude', 'passenger_count'],\n",
              "      dtype='object')"
            ]
          },
          "metadata": {},
          "execution_count": 164
        }
      ]
    },
    {
      "cell_type": "code",
      "metadata": {
        "id": "72bda5e6"
      },
      "source": [
        "selected_cols = ['fare_amount', 'pickup_datetime', 'pickup_longitude',\n",
        "       'pickup_latitude', 'dropoff_longitude', 'dropoff_latitude',\n",
        "       'passenger_count']\n",
        "\n",
        "selected_dtypes = {\n",
        "    'passenger_count': 'int16',\n",
        "    'fare_amount':'float32',\n",
        "    'pickup_longitude': 'float32',\n",
        "    'pickup_latitude': 'float32',\n",
        "    'dropoff_longitude': 'float32',\n",
        "    'dropoff_latitude': 'float32' \n",
        "}"
      ],
      "id": "72bda5e6",
      "execution_count": null,
      "outputs": []
    },
    {
      "cell_type": "code",
      "metadata": {
        "colab": {
          "base_uri": "https://localhost:8080/"
        },
        "id": "0e44e282",
        "outputId": "ea87cbb1-0d5c-4d2b-f6c4-06724e7a4e0a"
      },
      "source": [
        "%%time\n",
        "df3 = pd.read_csv(train,\n",
        "                  usecols=selected_cols,\n",
        "                  dtype=selected_dtypes, \n",
        "                  parse_dates=['pickup_datetime'],nrows = 400000)"
      ],
      "id": "0e44e282",
      "execution_count": null,
      "outputs": [
        {
          "output_type": "stream",
          "text": [
            "CPU times: user 56.2 s, sys: 160 ms, total: 56.4 s\n",
            "Wall time: 56.5 s\n"
          ],
          "name": "stdout"
        }
      ]
    },
    {
      "cell_type": "code",
      "metadata": {
        "id": "7695a3f1"
      },
      "source": [
        "selected_cols = ['key','pickup_datetime', 'pickup_longitude',\n",
        "       'pickup_latitude', 'dropoff_longitude', 'dropoff_latitude',\n",
        "       'passenger_count']\n",
        "df3_test = pd.read_csv(test,\n",
        "                  usecols=selected_cols,\n",
        "                  dtype=selected_dtypes, \n",
        "                  parse_dates=['pickup_datetime'])"
      ],
      "id": "7695a3f1",
      "execution_count": null,
      "outputs": []
    },
    {
      "cell_type": "markdown",
      "metadata": {
        "id": "8lkSnn8HzHsq"
      },
      "source": [
        "## Add date features**"
      ],
      "id": "8lkSnn8HzHsq"
    },
    {
      "cell_type": "code",
      "metadata": {
        "scrolled": true,
        "id": "d64611fa"
      },
      "source": [
        "def datefeatures(dataTbl):\n",
        "  dataTbl['year']=dataTbl['pickup_datetime'].dt.year\n",
        "  dataTbl['day']=dataTbl['pickup_datetime'].dt.day\n",
        "  dataTbl['month']=dataTbl['pickup_datetime'].dt.month\n",
        "  dataTbl['weekday']=dataTbl['pickup_datetime'].dt.weekday\n",
        "  dataTbl['hour']=dataTbl['pickup_datetime'].dt.hour\n",
        "  dataTbl.drop('pickup_datetime', axis = 1, inplace = True)\n",
        "  return  dataTbl.head(5)"
      ],
      "id": "d64611fa",
      "execution_count": null,
      "outputs": []
    },
    {
      "cell_type": "code",
      "metadata": {
        "colab": {
          "base_uri": "https://localhost:8080/",
          "height": 202
        },
        "id": "82H6u5I1pwpp",
        "outputId": "008b2428-255b-4ba6-ac28-b5fcec8098b1"
      },
      "source": [
        "datefeatures(df3)\n",
        "datefeatures(df3_test)"
      ],
      "id": "82H6u5I1pwpp",
      "execution_count": null,
      "outputs": [
        {
          "output_type": "execute_result",
          "data": {
            "text/html": [
              "<div>\n",
              "<style scoped>\n",
              "    .dataframe tbody tr th:only-of-type {\n",
              "        vertical-align: middle;\n",
              "    }\n",
              "\n",
              "    .dataframe tbody tr th {\n",
              "        vertical-align: top;\n",
              "    }\n",
              "\n",
              "    .dataframe thead th {\n",
              "        text-align: right;\n",
              "    }\n",
              "</style>\n",
              "<table border=\"1\" class=\"dataframe\">\n",
              "  <thead>\n",
              "    <tr style=\"text-align: right;\">\n",
              "      <th></th>\n",
              "      <th>key</th>\n",
              "      <th>pickup_longitude</th>\n",
              "      <th>pickup_latitude</th>\n",
              "      <th>dropoff_longitude</th>\n",
              "      <th>dropoff_latitude</th>\n",
              "      <th>passenger_count</th>\n",
              "      <th>year</th>\n",
              "      <th>day</th>\n",
              "      <th>month</th>\n",
              "      <th>weekday</th>\n",
              "      <th>hour</th>\n",
              "    </tr>\n",
              "  </thead>\n",
              "  <tbody>\n",
              "    <tr>\n",
              "      <th>0</th>\n",
              "      <td>2015-01-27 13:08:24.0000002</td>\n",
              "      <td>-73.973320</td>\n",
              "      <td>40.763805</td>\n",
              "      <td>-73.981430</td>\n",
              "      <td>40.743835</td>\n",
              "      <td>1</td>\n",
              "      <td>2015</td>\n",
              "      <td>27</td>\n",
              "      <td>1</td>\n",
              "      <td>1</td>\n",
              "      <td>13</td>\n",
              "    </tr>\n",
              "    <tr>\n",
              "      <th>1</th>\n",
              "      <td>2015-01-27 13:08:24.0000003</td>\n",
              "      <td>-73.986862</td>\n",
              "      <td>40.719383</td>\n",
              "      <td>-73.998886</td>\n",
              "      <td>40.739201</td>\n",
              "      <td>1</td>\n",
              "      <td>2015</td>\n",
              "      <td>27</td>\n",
              "      <td>1</td>\n",
              "      <td>1</td>\n",
              "      <td>13</td>\n",
              "    </tr>\n",
              "    <tr>\n",
              "      <th>2</th>\n",
              "      <td>2011-10-08 11:53:44.0000002</td>\n",
              "      <td>-73.982521</td>\n",
              "      <td>40.751259</td>\n",
              "      <td>-73.979652</td>\n",
              "      <td>40.746140</td>\n",
              "      <td>1</td>\n",
              "      <td>2011</td>\n",
              "      <td>8</td>\n",
              "      <td>10</td>\n",
              "      <td>5</td>\n",
              "      <td>11</td>\n",
              "    </tr>\n",
              "    <tr>\n",
              "      <th>3</th>\n",
              "      <td>2012-12-01 21:12:12.0000002</td>\n",
              "      <td>-73.981163</td>\n",
              "      <td>40.767807</td>\n",
              "      <td>-73.990448</td>\n",
              "      <td>40.751637</td>\n",
              "      <td>1</td>\n",
              "      <td>2012</td>\n",
              "      <td>1</td>\n",
              "      <td>12</td>\n",
              "      <td>5</td>\n",
              "      <td>21</td>\n",
              "    </tr>\n",
              "    <tr>\n",
              "      <th>4</th>\n",
              "      <td>2012-12-01 21:12:12.0000003</td>\n",
              "      <td>-73.966049</td>\n",
              "      <td>40.789776</td>\n",
              "      <td>-73.988564</td>\n",
              "      <td>40.744427</td>\n",
              "      <td>1</td>\n",
              "      <td>2012</td>\n",
              "      <td>1</td>\n",
              "      <td>12</td>\n",
              "      <td>5</td>\n",
              "      <td>21</td>\n",
              "    </tr>\n",
              "  </tbody>\n",
              "</table>\n",
              "</div>"
            ],
            "text/plain": [
              "                           key  pickup_longitude  ...  weekday  hour\n",
              "0  2015-01-27 13:08:24.0000002        -73.973320  ...        1    13\n",
              "1  2015-01-27 13:08:24.0000003        -73.986862  ...        1    13\n",
              "2  2011-10-08 11:53:44.0000002        -73.982521  ...        5    11\n",
              "3  2012-12-01 21:12:12.0000002        -73.981163  ...        5    21\n",
              "4  2012-12-01 21:12:12.0000003        -73.966049  ...        5    21\n",
              "\n",
              "[5 rows x 11 columns]"
            ]
          },
          "metadata": {},
          "execution_count": 169
        }
      ]
    },
    {
      "cell_type": "code",
      "metadata": {
        "id": "Ap9wliahe_ON"
      },
      "source": [
        "# remove all rows where lat and long outside Ny\n",
        "df3.drop(df3[(df3.pickup_longitude < -79) | (df3.pickup_longitude > -71) | \n",
        "              (df3.pickup_latitude < 40) | (df3.pickup_latitude > 45)].index,axis=0,inplace=True)\n",
        "\n",
        "df3.drop(df3[(df3.dropoff_longitude < -79) | (df3.dropoff_longitude > -71) | \n",
        "              (df3.dropoff_latitude < 40) | (df3.dropoff_latitude > 45)].index,axis=0,inplace=True)"
      ],
      "id": "Ap9wliahe_ON",
      "execution_count": null,
      "outputs": []
    },
    {
      "cell_type": "markdown",
      "metadata": {
        "id": "93aa84ba"
      },
      "source": [
        "## Add Distance using geo info"
      ],
      "id": "93aa84ba"
    },
    {
      "cell_type": "markdown",
      "metadata": {
        "id": "8aa22911"
      },
      "source": [
        "#### Distance Using geopanda"
      ],
      "id": "8aa22911"
    },
    {
      "cell_type": "code",
      "metadata": {
        "colab": {
          "base_uri": "https://localhost:8080/"
        },
        "id": "5fe335bf",
        "outputId": "eebc609b-7e44-4e03-a9a9-8c075140608c"
      },
      "source": [
        "pip install geopy"
      ],
      "id": "5fe335bf",
      "execution_count": null,
      "outputs": [
        {
          "output_type": "stream",
          "text": [
            "Requirement already satisfied: geopy in /usr/local/lib/python3.7/dist-packages (1.17.0)\n",
            "Requirement already satisfied: geographiclib<2,>=1.49 in /usr/local/lib/python3.7/dist-packages (from geopy) (1.52)\n"
          ],
          "name": "stdout"
        }
      ]
    },
    {
      "cell_type": "code",
      "metadata": {
        "id": "b22ed138"
      },
      "source": [
        "import geopy.distance"
      ],
      "id": "b22ed138",
      "execution_count": null,
      "outputs": []
    },
    {
      "cell_type": "code",
      "metadata": {
        "id": "9fe858e6"
      },
      "source": [
        "def geodesic_dist(df):\n",
        "    pickup_lat = df['pickup_latitude']\n",
        "    pickup_long = df['pickup_longitude']\n",
        "    dropoff_lat = df['dropoff_latitude']\n",
        "    dropoff_long = df['dropoff_longitude']\n",
        "    distance = geopy.distance.geodesic((pickup_lat, pickup_long), \n",
        "                                       (dropoff_lat, dropoff_long)).km\n",
        "    try:\n",
        "        return distance\n",
        "    except ValueError:\n",
        "        return np.nan\n",
        "    \n",
        "def circle_dist(df):\n",
        "    pickup_lat = df['pickup_latitude']\n",
        "    pickup_long = df['pickup_longitude']\n",
        "    dropoff_lat = df['dropoff_latitude']\n",
        "    dropoff_long = df['dropoff_longitude']\n",
        "    distance = geopy.distance.great_circle((pickup_lat, pickup_long), \n",
        "                                       (dropoff_lat, dropoff_long)).km\n",
        "    try:\n",
        "        return distance\n",
        "    except ValueError:\n",
        "        return np.nan\n",
        "\n",
        "def latlong_diff(df):\n",
        "    lat1 = df['pickup_latitude']\n",
        "    lat2 = df['dropoff_latitude']\n",
        "    lon1 = df['pickup_longitude']\n",
        "    lon2 = df['dropoff_longitude']\n",
        "    \n",
        "    # Add new features\n",
        "    df['latdiff'] = (lat1 - lat2)\n",
        "    df['londiff'] = (lon1 - lon2)\n",
        "    df['euclidean'] = (df['latdiff'] ** 2 + df['londiff'] ** 2) ** 0.5\n",
        "\n",
        "def geo_desc_grtCir(df):\n",
        "    df.dropna(inplace=True)\n",
        "    df['geopyDesic_dist'] = df.apply(lambda x: geodesic_dist(x), axis = 1 )\n",
        "    df['geopyGrtCir_dist'] = df.apply(lambda x: circle_dist(x), axis = 1 )"
      ],
      "id": "9fe858e6",
      "execution_count": null,
      "outputs": []
    },
    {
      "cell_type": "code",
      "metadata": {
        "id": "yR_iYxsIBUgm"
      },
      "source": [
        "geo_desc_grtCir(df3)"
      ],
      "id": "yR_iYxsIBUgm",
      "execution_count": null,
      "outputs": []
    },
    {
      "cell_type": "code",
      "metadata": {
        "id": "3PSIyuPwB8yL"
      },
      "source": [
        "latlong_diff(df3)"
      ],
      "id": "3PSIyuPwB8yL",
      "execution_count": null,
      "outputs": []
    },
    {
      "cell_type": "code",
      "metadata": {
        "colab": {
          "base_uri": "https://localhost:8080/",
          "height": 414
        },
        "id": "cfxpMLHwGP-7",
        "outputId": "c77828b9-dacc-402d-ec0e-57f6dd24205f"
      },
      "source": [
        "df3"
      ],
      "id": "cfxpMLHwGP-7",
      "execution_count": null,
      "outputs": [
        {
          "output_type": "execute_result",
          "data": {
            "text/html": [
              "<div>\n",
              "<style scoped>\n",
              "    .dataframe tbody tr th:only-of-type {\n",
              "        vertical-align: middle;\n",
              "    }\n",
              "\n",
              "    .dataframe tbody tr th {\n",
              "        vertical-align: top;\n",
              "    }\n",
              "\n",
              "    .dataframe thead th {\n",
              "        text-align: right;\n",
              "    }\n",
              "</style>\n",
              "<table border=\"1\" class=\"dataframe\">\n",
              "  <thead>\n",
              "    <tr style=\"text-align: right;\">\n",
              "      <th></th>\n",
              "      <th>fare_amount</th>\n",
              "      <th>pickup_longitude</th>\n",
              "      <th>pickup_latitude</th>\n",
              "      <th>dropoff_longitude</th>\n",
              "      <th>dropoff_latitude</th>\n",
              "      <th>passenger_count</th>\n",
              "      <th>year</th>\n",
              "      <th>day</th>\n",
              "      <th>month</th>\n",
              "      <th>weekday</th>\n",
              "      <th>hour</th>\n",
              "      <th>geopyDesic_dist</th>\n",
              "      <th>geopyGrtCir_dist</th>\n",
              "      <th>latdiff</th>\n",
              "      <th>londiff</th>\n",
              "      <th>euclidean</th>\n",
              "    </tr>\n",
              "  </thead>\n",
              "  <tbody>\n",
              "    <tr>\n",
              "      <th>0</th>\n",
              "      <td>4.5</td>\n",
              "      <td>-73.844315</td>\n",
              "      <td>40.721317</td>\n",
              "      <td>-73.841614</td>\n",
              "      <td>40.712276</td>\n",
              "      <td>1</td>\n",
              "      <td>2009</td>\n",
              "      <td>15</td>\n",
              "      <td>6</td>\n",
              "      <td>0</td>\n",
              "      <td>17</td>\n",
              "      <td>1.029579</td>\n",
              "      <td>1.030744</td>\n",
              "      <td>0.009041</td>\n",
              "      <td>-0.002701</td>\n",
              "      <td>0.009436</td>\n",
              "    </tr>\n",
              "    <tr>\n",
              "      <th>1</th>\n",
              "      <td>16.9</td>\n",
              "      <td>-74.016045</td>\n",
              "      <td>40.711304</td>\n",
              "      <td>-73.979271</td>\n",
              "      <td>40.782005</td>\n",
              "      <td>1</td>\n",
              "      <td>2010</td>\n",
              "      <td>5</td>\n",
              "      <td>1</td>\n",
              "      <td>1</td>\n",
              "      <td>16</td>\n",
              "      <td>8.443307</td>\n",
              "      <td>8.450012</td>\n",
              "      <td>-0.070702</td>\n",
              "      <td>-0.036774</td>\n",
              "      <td>0.079693</td>\n",
              "    </tr>\n",
              "    <tr>\n",
              "      <th>2</th>\n",
              "      <td>5.7</td>\n",
              "      <td>-73.982735</td>\n",
              "      <td>40.761269</td>\n",
              "      <td>-73.991241</td>\n",
              "      <td>40.750561</td>\n",
              "      <td>2</td>\n",
              "      <td>2011</td>\n",
              "      <td>18</td>\n",
              "      <td>8</td>\n",
              "      <td>3</td>\n",
              "      <td>0</td>\n",
              "      <td>1.389240</td>\n",
              "      <td>1.389634</td>\n",
              "      <td>0.010708</td>\n",
              "      <td>0.008507</td>\n",
              "      <td>0.013676</td>\n",
              "    </tr>\n",
              "    <tr>\n",
              "      <th>3</th>\n",
              "      <td>7.7</td>\n",
              "      <td>-73.987129</td>\n",
              "      <td>40.733143</td>\n",
              "      <td>-73.991570</td>\n",
              "      <td>40.758091</td>\n",
              "      <td>1</td>\n",
              "      <td>2012</td>\n",
              "      <td>21</td>\n",
              "      <td>4</td>\n",
              "      <td>5</td>\n",
              "      <td>4</td>\n",
              "      <td>2.795730</td>\n",
              "      <td>2.799214</td>\n",
              "      <td>-0.024948</td>\n",
              "      <td>0.004440</td>\n",
              "      <td>0.025340</td>\n",
              "    </tr>\n",
              "    <tr>\n",
              "      <th>4</th>\n",
              "      <td>5.3</td>\n",
              "      <td>-73.968094</td>\n",
              "      <td>40.768009</td>\n",
              "      <td>-73.956657</td>\n",
              "      <td>40.783764</td>\n",
              "      <td>1</td>\n",
              "      <td>2010</td>\n",
              "      <td>9</td>\n",
              "      <td>3</td>\n",
              "      <td>1</td>\n",
              "      <td>7</td>\n",
              "      <td>1.998262</td>\n",
              "      <td>1.999084</td>\n",
              "      <td>-0.015755</td>\n",
              "      <td>-0.011436</td>\n",
              "      <td>0.019468</td>\n",
              "    </tr>\n",
              "    <tr>\n",
              "      <th>...</th>\n",
              "      <td>...</td>\n",
              "      <td>...</td>\n",
              "      <td>...</td>\n",
              "      <td>...</td>\n",
              "      <td>...</td>\n",
              "      <td>...</td>\n",
              "      <td>...</td>\n",
              "      <td>...</td>\n",
              "      <td>...</td>\n",
              "      <td>...</td>\n",
              "      <td>...</td>\n",
              "      <td>...</td>\n",
              "      <td>...</td>\n",
              "      <td>...</td>\n",
              "      <td>...</td>\n",
              "      <td>...</td>\n",
              "    </tr>\n",
              "    <tr>\n",
              "      <th>399995</th>\n",
              "      <td>7.0</td>\n",
              "      <td>-73.987015</td>\n",
              "      <td>40.729763</td>\n",
              "      <td>-74.005898</td>\n",
              "      <td>40.728611</td>\n",
              "      <td>1</td>\n",
              "      <td>2013</td>\n",
              "      <td>25</td>\n",
              "      <td>11</td>\n",
              "      <td>0</td>\n",
              "      <td>12</td>\n",
              "      <td>1.600310</td>\n",
              "      <td>1.596282</td>\n",
              "      <td>0.001152</td>\n",
              "      <td>0.018883</td>\n",
              "      <td>0.018918</td>\n",
              "    </tr>\n",
              "    <tr>\n",
              "      <th>399996</th>\n",
              "      <td>8.5</td>\n",
              "      <td>-73.994080</td>\n",
              "      <td>40.750862</td>\n",
              "      <td>-73.989906</td>\n",
              "      <td>40.769836</td>\n",
              "      <td>2</td>\n",
              "      <td>2013</td>\n",
              "      <td>17</td>\n",
              "      <td>12</td>\n",
              "      <td>1</td>\n",
              "      <td>10</td>\n",
              "      <td>2.136346</td>\n",
              "      <td>2.138927</td>\n",
              "      <td>-0.018974</td>\n",
              "      <td>-0.004173</td>\n",
              "      <td>0.019428</td>\n",
              "    </tr>\n",
              "    <tr>\n",
              "      <th>399997</th>\n",
              "      <td>35.0</td>\n",
              "      <td>-73.986496</td>\n",
              "      <td>40.672901</td>\n",
              "      <td>-73.958138</td>\n",
              "      <td>40.765011</td>\n",
              "      <td>1</td>\n",
              "      <td>2014</td>\n",
              "      <td>17</td>\n",
              "      <td>12</td>\n",
              "      <td>2</td>\n",
              "      <td>7</td>\n",
              "      <td>10.505528</td>\n",
              "      <td>10.517291</td>\n",
              "      <td>-0.092110</td>\n",
              "      <td>-0.028358</td>\n",
              "      <td>0.096376</td>\n",
              "    </tr>\n",
              "    <tr>\n",
              "      <th>399998</th>\n",
              "      <td>14.1</td>\n",
              "      <td>-73.983521</td>\n",
              "      <td>40.730171</td>\n",
              "      <td>-73.988182</td>\n",
              "      <td>40.779221</td>\n",
              "      <td>4</td>\n",
              "      <td>2011</td>\n",
              "      <td>16</td>\n",
              "      <td>1</td>\n",
              "      <td>6</td>\n",
              "      <td>16</td>\n",
              "      <td>5.461099</td>\n",
              "      <td>5.468165</td>\n",
              "      <td>-0.049049</td>\n",
              "      <td>0.004662</td>\n",
              "      <td>0.049270</td>\n",
              "    </tr>\n",
              "    <tr>\n",
              "      <th>399999</th>\n",
              "      <td>6.0</td>\n",
              "      <td>-73.988197</td>\n",
              "      <td>40.755150</td>\n",
              "      <td>-73.994110</td>\n",
              "      <td>40.740921</td>\n",
              "      <td>6</td>\n",
              "      <td>2015</td>\n",
              "      <td>3</td>\n",
              "      <td>5</td>\n",
              "      <td>6</td>\n",
              "      <td>17</td>\n",
              "      <td>1.657127</td>\n",
              "      <td>1.658727</td>\n",
              "      <td>0.014229</td>\n",
              "      <td>0.005913</td>\n",
              "      <td>0.015408</td>\n",
              "    </tr>\n",
              "  </tbody>\n",
              "</table>\n",
              "<p>391698 rows × 16 columns</p>\n",
              "</div>"
            ],
            "text/plain": [
              "        fare_amount  pickup_longitude  ...   londiff  euclidean\n",
              "0               4.5        -73.844315  ... -0.002701   0.009436\n",
              "1              16.9        -74.016045  ... -0.036774   0.079693\n",
              "2               5.7        -73.982735  ...  0.008507   0.013676\n",
              "3               7.7        -73.987129  ...  0.004440   0.025340\n",
              "4               5.3        -73.968094  ... -0.011436   0.019468\n",
              "...             ...               ...  ...       ...        ...\n",
              "399995          7.0        -73.987015  ...  0.018883   0.018918\n",
              "399996          8.5        -73.994080  ... -0.004173   0.019428\n",
              "399997         35.0        -73.986496  ... -0.028358   0.096376\n",
              "399998         14.1        -73.983521  ...  0.004662   0.049270\n",
              "399999          6.0        -73.988197  ...  0.005913   0.015408\n",
              "\n",
              "[391698 rows x 16 columns]"
            ]
          },
          "metadata": {},
          "execution_count": 187
        }
      ]
    },
    {
      "cell_type": "markdown",
      "metadata": {
        "id": "227f9c9e"
      },
      "source": [
        "https://www.netstate.com/states/geography/ny_geography.htm"
      ],
      "id": "227f9c9e"
    },
    {
      "cell_type": "code",
      "metadata": {
        "id": "ab9046f9"
      },
      "source": [
        "%%time\n",
        "df3.to_csv('NY_Updated_Data.csv', index=False)"
      ],
      "id": "ab9046f9",
      "execution_count": null,
      "outputs": []
    },
    {
      "cell_type": "code",
      "metadata": {
        "id": "0d7d3bbb",
        "outputId": "17ea6f1a-fbf1-4376-fd04-993372620ad2"
      },
      "source": [
        "%%time\n",
        "df3_test.to_csv('NY_Updated_Test_Data.csv', index=False)"
      ],
      "id": "0d7d3bbb",
      "execution_count": null,
      "outputs": [
        {
          "name": "stdout",
          "output_type": "stream",
          "text": [
            "CPU times: user 104 ms, sys: 7.42 ms, total: 112 ms\n",
            "Wall time: 109 ms\n"
          ]
        }
      ]
    },
    {
      "cell_type": "code",
      "metadata": {
        "id": "781ad010",
        "outputId": "498cf132-93ff-4588-c5db-7b9e2ef53dae"
      },
      "source": [
        "df3_test"
      ],
      "id": "781ad010",
      "execution_count": null,
      "outputs": [
        {
          "data": {
            "text/html": [
              "<div>\n",
              "<style scoped>\n",
              "    .dataframe tbody tr th:only-of-type {\n",
              "        vertical-align: middle;\n",
              "    }\n",
              "\n",
              "    .dataframe tbody tr th {\n",
              "        vertical-align: top;\n",
              "    }\n",
              "\n",
              "    .dataframe thead th {\n",
              "        text-align: right;\n",
              "    }\n",
              "</style>\n",
              "<table border=\"1\" class=\"dataframe\">\n",
              "  <thead>\n",
              "    <tr style=\"text-align: right;\">\n",
              "      <th></th>\n",
              "      <th>key</th>\n",
              "      <th>pickup_longitude</th>\n",
              "      <th>pickup_latitude</th>\n",
              "      <th>dropoff_longitude</th>\n",
              "      <th>dropoff_latitude</th>\n",
              "      <th>passenger_count</th>\n",
              "      <th>year</th>\n",
              "      <th>day</th>\n",
              "      <th>month</th>\n",
              "      <th>weekday</th>\n",
              "      <th>hour</th>\n",
              "      <th>distance</th>\n",
              "      <th>geopyDesic_dist</th>\n",
              "      <th>geopyGrtCir_dist</th>\n",
              "    </tr>\n",
              "  </thead>\n",
              "  <tbody>\n",
              "    <tr>\n",
              "      <th>0</th>\n",
              "      <td>2015-01-27 13:08:24.0000002</td>\n",
              "      <td>-73.973320</td>\n",
              "      <td>40.763805</td>\n",
              "      <td>-73.981430</td>\n",
              "      <td>40.743835</td>\n",
              "      <td>1</td>\n",
              "      <td>2015</td>\n",
              "      <td>27</td>\n",
              "      <td>1</td>\n",
              "      <td>1</td>\n",
              "      <td>13</td>\n",
              "      <td>2.323358</td>\n",
              "      <td>2.320991</td>\n",
              "      <td>2.323263</td>\n",
              "    </tr>\n",
              "    <tr>\n",
              "      <th>1</th>\n",
              "      <td>2015-01-27 13:08:24.0000003</td>\n",
              "      <td>-73.986862</td>\n",
              "      <td>40.719383</td>\n",
              "      <td>-73.998886</td>\n",
              "      <td>40.739201</td>\n",
              "      <td>1</td>\n",
              "      <td>2015</td>\n",
              "      <td>27</td>\n",
              "      <td>1</td>\n",
              "      <td>1</td>\n",
              "      <td>13</td>\n",
              "      <td>2.425299</td>\n",
              "      <td>2.423802</td>\n",
              "      <td>2.425356</td>\n",
              "    </tr>\n",
              "    <tr>\n",
              "      <th>2</th>\n",
              "      <td>2011-10-08 11:53:44.0000002</td>\n",
              "      <td>-73.982521</td>\n",
              "      <td>40.751259</td>\n",
              "      <td>-73.979652</td>\n",
              "      <td>40.746140</td>\n",
              "      <td>1</td>\n",
              "      <td>2011</td>\n",
              "      <td>8</td>\n",
              "      <td>10</td>\n",
              "      <td>5</td>\n",
              "      <td>11</td>\n",
              "      <td>0.618403</td>\n",
              "      <td>0.617966</td>\n",
              "      <td>0.618413</td>\n",
              "    </tr>\n",
              "    <tr>\n",
              "      <th>3</th>\n",
              "      <td>2012-12-01 21:12:12.0000002</td>\n",
              "      <td>-73.981163</td>\n",
              "      <td>40.767807</td>\n",
              "      <td>-73.990448</td>\n",
              "      <td>40.751637</td>\n",
              "      <td>1</td>\n",
              "      <td>2012</td>\n",
              "      <td>1</td>\n",
              "      <td>12</td>\n",
              "      <td>5</td>\n",
              "      <td>21</td>\n",
              "      <td>1.960912</td>\n",
              "      <td>1.959416</td>\n",
              "      <td>1.960781</td>\n",
              "    </tr>\n",
              "    <tr>\n",
              "      <th>4</th>\n",
              "      <td>2012-12-01 21:12:12.0000003</td>\n",
              "      <td>-73.966049</td>\n",
              "      <td>40.789776</td>\n",
              "      <td>-73.988564</td>\n",
              "      <td>40.744427</td>\n",
              "      <td>1</td>\n",
              "      <td>2012</td>\n",
              "      <td>1</td>\n",
              "      <td>12</td>\n",
              "      <td>5</td>\n",
              "      <td>21</td>\n",
              "      <td>5.387211</td>\n",
              "      <td>5.382810</td>\n",
              "      <td>5.387288</td>\n",
              "    </tr>\n",
              "    <tr>\n",
              "      <th>...</th>\n",
              "      <td>...</td>\n",
              "      <td>...</td>\n",
              "      <td>...</td>\n",
              "      <td>...</td>\n",
              "      <td>...</td>\n",
              "      <td>...</td>\n",
              "      <td>...</td>\n",
              "      <td>...</td>\n",
              "      <td>...</td>\n",
              "      <td>...</td>\n",
              "      <td>...</td>\n",
              "      <td>...</td>\n",
              "      <td>...</td>\n",
              "      <td>...</td>\n",
              "    </tr>\n",
              "    <tr>\n",
              "      <th>9909</th>\n",
              "      <td>2015-05-10 12:37:51.0000002</td>\n",
              "      <td>-73.968124</td>\n",
              "      <td>40.796997</td>\n",
              "      <td>-73.955643</td>\n",
              "      <td>40.780388</td>\n",
              "      <td>6</td>\n",
              "      <td>2015</td>\n",
              "      <td>10</td>\n",
              "      <td>5</td>\n",
              "      <td>6</td>\n",
              "      <td>12</td>\n",
              "      <td>2.124599</td>\n",
              "      <td>2.124110</td>\n",
              "      <td>2.124877</td>\n",
              "    </tr>\n",
              "    <tr>\n",
              "      <th>9910</th>\n",
              "      <td>2015-01-12 17:05:51.0000001</td>\n",
              "      <td>-73.945511</td>\n",
              "      <td>40.803600</td>\n",
              "      <td>-73.960213</td>\n",
              "      <td>40.776371</td>\n",
              "      <td>6</td>\n",
              "      <td>2015</td>\n",
              "      <td>12</td>\n",
              "      <td>1</td>\n",
              "      <td>0</td>\n",
              "      <td>17</td>\n",
              "      <td>3.271138</td>\n",
              "      <td>3.268511</td>\n",
              "      <td>3.270974</td>\n",
              "    </tr>\n",
              "    <tr>\n",
              "      <th>9911</th>\n",
              "      <td>2015-04-19 20:44:15.0000001</td>\n",
              "      <td>-73.991600</td>\n",
              "      <td>40.726608</td>\n",
              "      <td>-73.789742</td>\n",
              "      <td>40.647011</td>\n",
              "      <td>6</td>\n",
              "      <td>2015</td>\n",
              "      <td>19</td>\n",
              "      <td>4</td>\n",
              "      <td>6</td>\n",
              "      <td>20</td>\n",
              "      <td>19.183577</td>\n",
              "      <td>19.217032</td>\n",
              "      <td>19.183968</td>\n",
              "    </tr>\n",
              "    <tr>\n",
              "      <th>9912</th>\n",
              "      <td>2015-01-31 01:05:19.0000005</td>\n",
              "      <td>-73.985573</td>\n",
              "      <td>40.735432</td>\n",
              "      <td>-73.939178</td>\n",
              "      <td>40.801731</td>\n",
              "      <td>6</td>\n",
              "      <td>2015</td>\n",
              "      <td>31</td>\n",
              "      <td>1</td>\n",
              "      <td>5</td>\n",
              "      <td>1</td>\n",
              "      <td>8.343392</td>\n",
              "      <td>8.339644</td>\n",
              "      <td>8.343498</td>\n",
              "    </tr>\n",
              "    <tr>\n",
              "      <th>9913</th>\n",
              "      <td>2015-01-18 14:06:23.0000006</td>\n",
              "      <td>-73.988022</td>\n",
              "      <td>40.754070</td>\n",
              "      <td>-74.000282</td>\n",
              "      <td>40.759220</td>\n",
              "      <td>6</td>\n",
              "      <td>2015</td>\n",
              "      <td>18</td>\n",
              "      <td>1</td>\n",
              "      <td>6</td>\n",
              "      <td>14</td>\n",
              "      <td>1.180814</td>\n",
              "      <td>1.182767</td>\n",
              "      <td>1.180827</td>\n",
              "    </tr>\n",
              "  </tbody>\n",
              "</table>\n",
              "<p>9914 rows × 14 columns</p>\n",
              "</div>"
            ],
            "text/plain": [
              "                              key  pickup_longitude  pickup_latitude  \\\n",
              "0     2015-01-27 13:08:24.0000002        -73.973320        40.763805   \n",
              "1     2015-01-27 13:08:24.0000003        -73.986862        40.719383   \n",
              "2     2011-10-08 11:53:44.0000002        -73.982521        40.751259   \n",
              "3     2012-12-01 21:12:12.0000002        -73.981163        40.767807   \n",
              "4     2012-12-01 21:12:12.0000003        -73.966049        40.789776   \n",
              "...                           ...               ...              ...   \n",
              "9909  2015-05-10 12:37:51.0000002        -73.968124        40.796997   \n",
              "9910  2015-01-12 17:05:51.0000001        -73.945511        40.803600   \n",
              "9911  2015-04-19 20:44:15.0000001        -73.991600        40.726608   \n",
              "9912  2015-01-31 01:05:19.0000005        -73.985573        40.735432   \n",
              "9913  2015-01-18 14:06:23.0000006        -73.988022        40.754070   \n",
              "\n",
              "      dropoff_longitude  dropoff_latitude  passenger_count  year  day  month  \\\n",
              "0            -73.981430         40.743835                1  2015   27      1   \n",
              "1            -73.998886         40.739201                1  2015   27      1   \n",
              "2            -73.979652         40.746140                1  2011    8     10   \n",
              "3            -73.990448         40.751637                1  2012    1     12   \n",
              "4            -73.988564         40.744427                1  2012    1     12   \n",
              "...                 ...               ...              ...   ...  ...    ...   \n",
              "9909         -73.955643         40.780388                6  2015   10      5   \n",
              "9910         -73.960213         40.776371                6  2015   12      1   \n",
              "9911         -73.789742         40.647011                6  2015   19      4   \n",
              "9912         -73.939178         40.801731                6  2015   31      1   \n",
              "9913         -74.000282         40.759220                6  2015   18      1   \n",
              "\n",
              "      weekday  hour   distance  geopyDesic_dist  geopyGrtCir_dist  \n",
              "0           1    13   2.323358         2.320991          2.323263  \n",
              "1           1    13   2.425299         2.423802          2.425356  \n",
              "2           5    11   0.618403         0.617966          0.618413  \n",
              "3           5    21   1.960912         1.959416          1.960781  \n",
              "4           5    21   5.387211         5.382810          5.387288  \n",
              "...       ...   ...        ...              ...               ...  \n",
              "9909        6    12   2.124599         2.124110          2.124877  \n",
              "9910        0    17   3.271138         3.268511          3.270974  \n",
              "9911        6    20  19.183577        19.217032         19.183968  \n",
              "9912        5     1   8.343392         8.339644          8.343498  \n",
              "9913        6    14   1.180814         1.182767          1.180827  \n",
              "\n",
              "[9914 rows x 14 columns]"
            ]
          },
          "execution_count": 266,
          "metadata": {},
          "output_type": "execute_result"
        }
      ]
    },
    {
      "cell_type": "code",
      "metadata": {
        "colab": {
          "base_uri": "https://localhost:8080/"
        },
        "id": "f7Zb0Me_HCBg",
        "outputId": "dcfb0543-ece1-46d2-8f7a-b180a231972d"
      },
      "source": [
        "df3.columns"
      ],
      "id": "f7Zb0Me_HCBg",
      "execution_count": null,
      "outputs": [
        {
          "output_type": "execute_result",
          "data": {
            "text/plain": [
              "Index(['fare_amount', 'pickup_longitude', 'pickup_latitude',\n",
              "       'dropoff_longitude', 'dropoff_latitude', 'passenger_count', 'year',\n",
              "       'day', 'month', 'weekday', 'hour', 'distance', 'geopyDesic_dist',\n",
              "       'geopyGrtCir_dist', 'latdiff', 'londiff', 'euclidean'],\n",
              "      dtype='object')"
            ]
          },
          "metadata": {},
          "execution_count": 68
        }
      ]
    },
    {
      "cell_type": "markdown",
      "metadata": {
        "id": "249d4a10"
      },
      "source": [
        "## Data Cleaning"
      ],
      "id": "249d4a10"
    },
    {
      "cell_type": "code",
      "metadata": {
        "id": "5145b761"
      },
      "source": [
        "def dataClean(df):\n",
        "    # drop all rows where fare amount is less than 50 cent or higher than $150.\n",
        "\n",
        "    df.drop(df[df['fare_amount'] < 0.5].index, axis=0, inplace = True)\n",
        "    df.drop(df[df['fare_amount'] > 150].index, axis=0, inplace = True)\n",
        "\n",
        "    # drop all rows where passenger count is zero\n",
        "\n",
        "    df.drop(df[df['passenger_count'] == 0].index, axis=0, inplace = True)\n",
        "\n",
        "    # drop all row where long and lat is outside newyork\n",
        "\n",
        "    df.drop(df[(df.pickup_longitude < -79) | (df.pickup_longitude > -71) | \n",
        "              (df.pickup_latitude < 40) | (df.pickup_latitude > 45)].index,axis=0,inplace=True)\n",
        "\n",
        "    df.drop(df[(df.dropoff_longitude < -79) | (df.dropoff_longitude > -71) | \n",
        "              (df.dropoff_latitude < 40) | (df.dropoff_latitude > 45)].index,axis=0,inplace=True)\n",
        "    \n",
        "    # Drop all rows where fare amount is not in line with distance\n",
        "    df.drop(df[(df.fare_amount > 5) & (df.geopyDesic_dist < 0.001)].index, axis=0, inplace = True)\n",
        "    df.drop(df[(df.fare_amount < 20) & (df.geopyDesic_dist >150)].index, axis=0, inplace = True)\n",
        "\n",
        "\n",
        "    return df"
      ],
      "id": "5145b761",
      "execution_count": null,
      "outputs": []
    },
    {
      "cell_type": "code",
      "metadata": {
        "colab": {
          "base_uri": "https://localhost:8080/"
        },
        "id": "Zp-OZFVP4P0m",
        "outputId": "816e5bcf-d32b-445b-ef5a-6f8c416452e8"
      },
      "source": [
        "df3.shape"
      ],
      "id": "Zp-OZFVP4P0m",
      "execution_count": null,
      "outputs": [
        {
          "output_type": "execute_result",
          "data": {
            "text/plain": [
              "(390236, 16)"
            ]
          },
          "metadata": {},
          "execution_count": 192
        }
      ]
    },
    {
      "cell_type": "code",
      "metadata": {
        "colab": {
          "base_uri": "https://localhost:8080/",
          "height": 414
        },
        "id": "uYTQKQRZ4TqG",
        "outputId": "19261f80-d305-4ac0-f569-88dd0ec774cb"
      },
      "source": [
        "dataClean(df3)"
      ],
      "id": "uYTQKQRZ4TqG",
      "execution_count": null,
      "outputs": [
        {
          "output_type": "execute_result",
          "data": {
            "text/html": [
              "<div>\n",
              "<style scoped>\n",
              "    .dataframe tbody tr th:only-of-type {\n",
              "        vertical-align: middle;\n",
              "    }\n",
              "\n",
              "    .dataframe tbody tr th {\n",
              "        vertical-align: top;\n",
              "    }\n",
              "\n",
              "    .dataframe thead th {\n",
              "        text-align: right;\n",
              "    }\n",
              "</style>\n",
              "<table border=\"1\" class=\"dataframe\">\n",
              "  <thead>\n",
              "    <tr style=\"text-align: right;\">\n",
              "      <th></th>\n",
              "      <th>fare_amount</th>\n",
              "      <th>pickup_longitude</th>\n",
              "      <th>pickup_latitude</th>\n",
              "      <th>dropoff_longitude</th>\n",
              "      <th>dropoff_latitude</th>\n",
              "      <th>passenger_count</th>\n",
              "      <th>year</th>\n",
              "      <th>day</th>\n",
              "      <th>month</th>\n",
              "      <th>weekday</th>\n",
              "      <th>hour</th>\n",
              "      <th>geopyDesic_dist</th>\n",
              "      <th>geopyGrtCir_dist</th>\n",
              "      <th>latdiff</th>\n",
              "      <th>londiff</th>\n",
              "      <th>euclidean</th>\n",
              "    </tr>\n",
              "  </thead>\n",
              "  <tbody>\n",
              "    <tr>\n",
              "      <th>0</th>\n",
              "      <td>4.5</td>\n",
              "      <td>-73.844315</td>\n",
              "      <td>40.721317</td>\n",
              "      <td>-73.841614</td>\n",
              "      <td>40.712276</td>\n",
              "      <td>1</td>\n",
              "      <td>2009</td>\n",
              "      <td>15</td>\n",
              "      <td>6</td>\n",
              "      <td>0</td>\n",
              "      <td>17</td>\n",
              "      <td>1.029579</td>\n",
              "      <td>1.030744</td>\n",
              "      <td>0.009041</td>\n",
              "      <td>-0.002701</td>\n",
              "      <td>0.009436</td>\n",
              "    </tr>\n",
              "    <tr>\n",
              "      <th>1</th>\n",
              "      <td>16.9</td>\n",
              "      <td>-74.016045</td>\n",
              "      <td>40.711304</td>\n",
              "      <td>-73.979271</td>\n",
              "      <td>40.782005</td>\n",
              "      <td>1</td>\n",
              "      <td>2010</td>\n",
              "      <td>5</td>\n",
              "      <td>1</td>\n",
              "      <td>1</td>\n",
              "      <td>16</td>\n",
              "      <td>8.443307</td>\n",
              "      <td>8.450012</td>\n",
              "      <td>-0.070702</td>\n",
              "      <td>-0.036774</td>\n",
              "      <td>0.079693</td>\n",
              "    </tr>\n",
              "    <tr>\n",
              "      <th>2</th>\n",
              "      <td>5.7</td>\n",
              "      <td>-73.982735</td>\n",
              "      <td>40.761269</td>\n",
              "      <td>-73.991241</td>\n",
              "      <td>40.750561</td>\n",
              "      <td>2</td>\n",
              "      <td>2011</td>\n",
              "      <td>18</td>\n",
              "      <td>8</td>\n",
              "      <td>3</td>\n",
              "      <td>0</td>\n",
              "      <td>1.389240</td>\n",
              "      <td>1.389634</td>\n",
              "      <td>0.010708</td>\n",
              "      <td>0.008507</td>\n",
              "      <td>0.013676</td>\n",
              "    </tr>\n",
              "    <tr>\n",
              "      <th>3</th>\n",
              "      <td>7.7</td>\n",
              "      <td>-73.987129</td>\n",
              "      <td>40.733143</td>\n",
              "      <td>-73.991570</td>\n",
              "      <td>40.758091</td>\n",
              "      <td>1</td>\n",
              "      <td>2012</td>\n",
              "      <td>21</td>\n",
              "      <td>4</td>\n",
              "      <td>5</td>\n",
              "      <td>4</td>\n",
              "      <td>2.795730</td>\n",
              "      <td>2.799214</td>\n",
              "      <td>-0.024948</td>\n",
              "      <td>0.004440</td>\n",
              "      <td>0.025340</td>\n",
              "    </tr>\n",
              "    <tr>\n",
              "      <th>4</th>\n",
              "      <td>5.3</td>\n",
              "      <td>-73.968094</td>\n",
              "      <td>40.768009</td>\n",
              "      <td>-73.956657</td>\n",
              "      <td>40.783764</td>\n",
              "      <td>1</td>\n",
              "      <td>2010</td>\n",
              "      <td>9</td>\n",
              "      <td>3</td>\n",
              "      <td>1</td>\n",
              "      <td>7</td>\n",
              "      <td>1.998262</td>\n",
              "      <td>1.999084</td>\n",
              "      <td>-0.015755</td>\n",
              "      <td>-0.011436</td>\n",
              "      <td>0.019468</td>\n",
              "    </tr>\n",
              "    <tr>\n",
              "      <th>...</th>\n",
              "      <td>...</td>\n",
              "      <td>...</td>\n",
              "      <td>...</td>\n",
              "      <td>...</td>\n",
              "      <td>...</td>\n",
              "      <td>...</td>\n",
              "      <td>...</td>\n",
              "      <td>...</td>\n",
              "      <td>...</td>\n",
              "      <td>...</td>\n",
              "      <td>...</td>\n",
              "      <td>...</td>\n",
              "      <td>...</td>\n",
              "      <td>...</td>\n",
              "      <td>...</td>\n",
              "      <td>...</td>\n",
              "    </tr>\n",
              "    <tr>\n",
              "      <th>399995</th>\n",
              "      <td>7.0</td>\n",
              "      <td>-73.987015</td>\n",
              "      <td>40.729763</td>\n",
              "      <td>-74.005898</td>\n",
              "      <td>40.728611</td>\n",
              "      <td>1</td>\n",
              "      <td>2013</td>\n",
              "      <td>25</td>\n",
              "      <td>11</td>\n",
              "      <td>0</td>\n",
              "      <td>12</td>\n",
              "      <td>1.600310</td>\n",
              "      <td>1.596282</td>\n",
              "      <td>0.001152</td>\n",
              "      <td>0.018883</td>\n",
              "      <td>0.018918</td>\n",
              "    </tr>\n",
              "    <tr>\n",
              "      <th>399996</th>\n",
              "      <td>8.5</td>\n",
              "      <td>-73.994080</td>\n",
              "      <td>40.750862</td>\n",
              "      <td>-73.989906</td>\n",
              "      <td>40.769836</td>\n",
              "      <td>2</td>\n",
              "      <td>2013</td>\n",
              "      <td>17</td>\n",
              "      <td>12</td>\n",
              "      <td>1</td>\n",
              "      <td>10</td>\n",
              "      <td>2.136346</td>\n",
              "      <td>2.138927</td>\n",
              "      <td>-0.018974</td>\n",
              "      <td>-0.004173</td>\n",
              "      <td>0.019428</td>\n",
              "    </tr>\n",
              "    <tr>\n",
              "      <th>399997</th>\n",
              "      <td>35.0</td>\n",
              "      <td>-73.986496</td>\n",
              "      <td>40.672901</td>\n",
              "      <td>-73.958138</td>\n",
              "      <td>40.765011</td>\n",
              "      <td>1</td>\n",
              "      <td>2014</td>\n",
              "      <td>17</td>\n",
              "      <td>12</td>\n",
              "      <td>2</td>\n",
              "      <td>7</td>\n",
              "      <td>10.505528</td>\n",
              "      <td>10.517291</td>\n",
              "      <td>-0.092110</td>\n",
              "      <td>-0.028358</td>\n",
              "      <td>0.096376</td>\n",
              "    </tr>\n",
              "    <tr>\n",
              "      <th>399998</th>\n",
              "      <td>14.1</td>\n",
              "      <td>-73.983521</td>\n",
              "      <td>40.730171</td>\n",
              "      <td>-73.988182</td>\n",
              "      <td>40.779221</td>\n",
              "      <td>4</td>\n",
              "      <td>2011</td>\n",
              "      <td>16</td>\n",
              "      <td>1</td>\n",
              "      <td>6</td>\n",
              "      <td>16</td>\n",
              "      <td>5.461099</td>\n",
              "      <td>5.468165</td>\n",
              "      <td>-0.049049</td>\n",
              "      <td>0.004662</td>\n",
              "      <td>0.049270</td>\n",
              "    </tr>\n",
              "    <tr>\n",
              "      <th>399999</th>\n",
              "      <td>6.0</td>\n",
              "      <td>-73.988197</td>\n",
              "      <td>40.755150</td>\n",
              "      <td>-73.994110</td>\n",
              "      <td>40.740921</td>\n",
              "      <td>6</td>\n",
              "      <td>2015</td>\n",
              "      <td>3</td>\n",
              "      <td>5</td>\n",
              "      <td>6</td>\n",
              "      <td>17</td>\n",
              "      <td>1.657127</td>\n",
              "      <td>1.658727</td>\n",
              "      <td>0.014229</td>\n",
              "      <td>0.005913</td>\n",
              "      <td>0.015408</td>\n",
              "    </tr>\n",
              "  </tbody>\n",
              "</table>\n",
              "<p>387152 rows × 16 columns</p>\n",
              "</div>"
            ],
            "text/plain": [
              "        fare_amount  pickup_longitude  ...   londiff  euclidean\n",
              "0               4.5        -73.844315  ... -0.002701   0.009436\n",
              "1              16.9        -74.016045  ... -0.036774   0.079693\n",
              "2               5.7        -73.982735  ...  0.008507   0.013676\n",
              "3               7.7        -73.987129  ...  0.004440   0.025340\n",
              "4               5.3        -73.968094  ... -0.011436   0.019468\n",
              "...             ...               ...  ...       ...        ...\n",
              "399995          7.0        -73.987015  ...  0.018883   0.018918\n",
              "399996          8.5        -73.994080  ... -0.004173   0.019428\n",
              "399997         35.0        -73.986496  ... -0.028358   0.096376\n",
              "399998         14.1        -73.983521  ...  0.004662   0.049270\n",
              "399999          6.0        -73.988197  ...  0.005913   0.015408\n",
              "\n",
              "[387152 rows x 16 columns]"
            ]
          },
          "metadata": {},
          "execution_count": 193
        }
      ]
    },
    {
      "cell_type": "code",
      "metadata": {
        "colab": {
          "base_uri": "https://localhost:8080/"
        },
        "id": "avaRxkABjPLQ",
        "outputId": "8a14faf9-528e-44ee-924d-4be40a200398"
      },
      "source": [
        "df3.shape"
      ],
      "id": "avaRxkABjPLQ",
      "execution_count": null,
      "outputs": [
        {
          "output_type": "execute_result",
          "data": {
            "text/plain": [
              "(387152, 16)"
            ]
          },
          "metadata": {},
          "execution_count": 194
        }
      ]
    },
    {
      "cell_type": "markdown",
      "metadata": {
        "id": "719292a1"
      },
      "source": [
        "## Save DF to CSV /feather*"
      ],
      "id": "719292a1"
    },
    {
      "cell_type": "code",
      "metadata": {
        "id": "06768dcc"
      },
      "source": [
        "df3 = pd.read_feather('NY_Updated_Data.feather')"
      ],
      "id": "06768dcc",
      "execution_count": null,
      "outputs": []
    },
    {
      "cell_type": "code",
      "metadata": {
        "id": "081c6a3a",
        "outputId": "5c6c4fc9-91d2-4fb4-cc65-5d8814760c7a"
      },
      "source": [
        "df3.columns"
      ],
      "id": "081c6a3a",
      "execution_count": null,
      "outputs": [
        {
          "data": {
            "text/plain": [
              "Index(['fare_amount', 'pickup_longitude', 'pickup_latitude',\n",
              "       'dropoff_longitude', 'dropoff_latitude', 'passenger_count', 'year',\n",
              "       'day', 'month', 'weekday', 'hour', 'distance', 'geopyDesic_dist',\n",
              "       'geopyGrtCir_dist', 'Fare per k/m'],\n",
              "      dtype='object')"
            ]
          },
          "execution_count": 168,
          "metadata": {},
          "output_type": "execute_result"
        }
      ]
    },
    {
      "cell_type": "code",
      "metadata": {
        "id": "32237a66",
        "outputId": "ee016668-5cdd-4ab1-cf41-60f8fc0285d0"
      },
      "source": [
        "df3.describe()"
      ],
      "id": "32237a66",
      "execution_count": null,
      "outputs": [
        {
          "data": {
            "text/html": [
              "<div>\n",
              "<style scoped>\n",
              "    .dataframe tbody tr th:only-of-type {\n",
              "        vertical-align: middle;\n",
              "    }\n",
              "\n",
              "    .dataframe tbody tr th {\n",
              "        vertical-align: top;\n",
              "    }\n",
              "\n",
              "    .dataframe thead th {\n",
              "        text-align: right;\n",
              "    }\n",
              "</style>\n",
              "<table border=\"1\" class=\"dataframe\">\n",
              "  <thead>\n",
              "    <tr style=\"text-align: right;\">\n",
              "      <th></th>\n",
              "      <th>fare_amount</th>\n",
              "      <th>pickup_longitude</th>\n",
              "      <th>pickup_latitude</th>\n",
              "      <th>dropoff_longitude</th>\n",
              "      <th>dropoff_latitude</th>\n",
              "      <th>passenger_count</th>\n",
              "      <th>year</th>\n",
              "      <th>day</th>\n",
              "      <th>month</th>\n",
              "      <th>weekday</th>\n",
              "      <th>hour</th>\n",
              "      <th>distance</th>\n",
              "      <th>geopyDesic_dist</th>\n",
              "      <th>geopyGrtCir_dist</th>\n",
              "      <th>Fare per k/m</th>\n",
              "    </tr>\n",
              "  </thead>\n",
              "  <tbody>\n",
              "    <tr>\n",
              "      <th>count</th>\n",
              "      <td>385221.000000</td>\n",
              "      <td>385221.000000</td>\n",
              "      <td>385221.000000</td>\n",
              "      <td>385221.000000</td>\n",
              "      <td>385221.000000</td>\n",
              "      <td>385221.000000</td>\n",
              "      <td>385221.000000</td>\n",
              "      <td>385221.000000</td>\n",
              "      <td>385221.000000</td>\n",
              "      <td>385221.000000</td>\n",
              "      <td>385221.000000</td>\n",
              "      <td>385221.000000</td>\n",
              "      <td>385221.000000</td>\n",
              "      <td>385221.000000</td>\n",
              "      <td>385221.000000</td>\n",
              "    </tr>\n",
              "    <tr>\n",
              "      <th>mean</th>\n",
              "      <td>11.301880</td>\n",
              "      <td>-73.998222</td>\n",
              "      <td>40.874714</td>\n",
              "      <td>-73.998268</td>\n",
              "      <td>40.875866</td>\n",
              "      <td>1.690251</td>\n",
              "      <td>2011.744684</td>\n",
              "      <td>15.671721</td>\n",
              "      <td>6.276299</td>\n",
              "      <td>3.041693</td>\n",
              "      <td>13.510600</td>\n",
              "      <td>3.389573</td>\n",
              "      <td>3.390619</td>\n",
              "      <td>3.389580</td>\n",
              "      <td>5.435536</td>\n",
              "    </tr>\n",
              "    <tr>\n",
              "      <th>std</th>\n",
              "      <td>9.470420</td>\n",
              "      <td>0.046377</td>\n",
              "      <td>0.127075</td>\n",
              "      <td>0.045571</td>\n",
              "      <td>0.128576</td>\n",
              "      <td>1.306367</td>\n",
              "      <td>1.867031</td>\n",
              "      <td>8.681774</td>\n",
              "      <td>3.439939</td>\n",
              "      <td>1.948550</td>\n",
              "      <td>6.510648</td>\n",
              "      <td>3.965195</td>\n",
              "      <td>3.969135</td>\n",
              "      <td>3.965470</td>\n",
              "      <td>21.657330</td>\n",
              "    </tr>\n",
              "    <tr>\n",
              "      <th>min</th>\n",
              "      <td>2.500000</td>\n",
              "      <td>-78.650909</td>\n",
              "      <td>40.052723</td>\n",
              "      <td>-78.659447</td>\n",
              "      <td>40.041180</td>\n",
              "      <td>1.000000</td>\n",
              "      <td>2009.000000</td>\n",
              "      <td>1.000000</td>\n",
              "      <td>1.000000</td>\n",
              "      <td>0.000000</td>\n",
              "      <td>0.000000</td>\n",
              "      <td>0.002553</td>\n",
              "      <td>0.002129</td>\n",
              "      <td>0.002129</td>\n",
              "      <td>0.020000</td>\n",
              "    </tr>\n",
              "    <tr>\n",
              "      <th>25%</th>\n",
              "      <td>6.000000</td>\n",
              "      <td>-73.992287</td>\n",
              "      <td>40.736637</td>\n",
              "      <td>-73.991554</td>\n",
              "      <td>40.735695</td>\n",
              "      <td>1.000000</td>\n",
              "      <td>2010.000000</td>\n",
              "      <td>8.000000</td>\n",
              "      <td>3.000000</td>\n",
              "      <td>1.000000</td>\n",
              "      <td>9.000000</td>\n",
              "      <td>1.285923</td>\n",
              "      <td>1.286503</td>\n",
              "      <td>1.285871</td>\n",
              "      <td>2.970000</td>\n",
              "    </tr>\n",
              "    <tr>\n",
              "      <th>50%</th>\n",
              "      <td>8.500000</td>\n",
              "      <td>-73.982109</td>\n",
              "      <td>40.753471</td>\n",
              "      <td>-73.980591</td>\n",
              "      <td>40.753960</td>\n",
              "      <td>1.000000</td>\n",
              "      <td>2012.000000</td>\n",
              "      <td>16.000000</td>\n",
              "      <td>6.000000</td>\n",
              "      <td>3.000000</td>\n",
              "      <td>14.000000</td>\n",
              "      <td>2.185232</td>\n",
              "      <td>2.185659</td>\n",
              "      <td>2.185190</td>\n",
              "      <td>3.810000</td>\n",
              "    </tr>\n",
              "    <tr>\n",
              "      <th>75%</th>\n",
              "      <td>12.500000</td>\n",
              "      <td>-73.968498</td>\n",
              "      <td>40.767525</td>\n",
              "      <td>-73.965446</td>\n",
              "      <td>40.768414</td>\n",
              "      <td>2.000000</td>\n",
              "      <td>2013.000000</td>\n",
              "      <td>23.000000</td>\n",
              "      <td>9.000000</td>\n",
              "      <td>5.000000</td>\n",
              "      <td>19.000000</td>\n",
              "      <td>3.964424</td>\n",
              "      <td>3.963499</td>\n",
              "      <td>3.964440</td>\n",
              "      <td>5.030000</td>\n",
              "    </tr>\n",
              "    <tr>\n",
              "      <th>max</th>\n",
              "      <td>281.049988</td>\n",
              "      <td>-71.056412</td>\n",
              "      <td>43.183331</td>\n",
              "      <td>-71.035461</td>\n",
              "      <td>43.415192</td>\n",
              "      <td>6.000000</td>\n",
              "      <td>2015.000000</td>\n",
              "      <td>31.000000</td>\n",
              "      <td>12.000000</td>\n",
              "      <td>6.000000</td>\n",
              "      <td>23.000000</td>\n",
              "      <td>343.669189</td>\n",
              "      <td>344.545070</td>\n",
              "      <td>343.669544</td>\n",
              "      <td>993.400024</td>\n",
              "    </tr>\n",
              "  </tbody>\n",
              "</table>\n",
              "</div>"
            ],
            "text/plain": [
              "         fare_amount  pickup_longitude  pickup_latitude  dropoff_longitude  \\\n",
              "count  385221.000000     385221.000000    385221.000000      385221.000000   \n",
              "mean       11.301880        -73.998222        40.874714         -73.998268   \n",
              "std         9.470420          0.046377         0.127075           0.045571   \n",
              "min         2.500000        -78.650909        40.052723         -78.659447   \n",
              "25%         6.000000        -73.992287        40.736637         -73.991554   \n",
              "50%         8.500000        -73.982109        40.753471         -73.980591   \n",
              "75%        12.500000        -73.968498        40.767525         -73.965446   \n",
              "max       281.049988        -71.056412        43.183331         -71.035461   \n",
              "\n",
              "       dropoff_latitude  passenger_count           year            day  \\\n",
              "count     385221.000000    385221.000000  385221.000000  385221.000000   \n",
              "mean          40.875866         1.690251    2011.744684      15.671721   \n",
              "std            0.128576         1.306367       1.867031       8.681774   \n",
              "min           40.041180         1.000000    2009.000000       1.000000   \n",
              "25%           40.735695         1.000000    2010.000000       8.000000   \n",
              "50%           40.753960         1.000000    2012.000000      16.000000   \n",
              "75%           40.768414         2.000000    2013.000000      23.000000   \n",
              "max           43.415192         6.000000    2015.000000      31.000000   \n",
              "\n",
              "               month        weekday           hour       distance  \\\n",
              "count  385221.000000  385221.000000  385221.000000  385221.000000   \n",
              "mean        6.276299       3.041693      13.510600       3.389573   \n",
              "std         3.439939       1.948550       6.510648       3.965195   \n",
              "min         1.000000       0.000000       0.000000       0.002553   \n",
              "25%         3.000000       1.000000       9.000000       1.285923   \n",
              "50%         6.000000       3.000000      14.000000       2.185232   \n",
              "75%         9.000000       5.000000      19.000000       3.964424   \n",
              "max        12.000000       6.000000      23.000000     343.669189   \n",
              "\n",
              "       geopyDesic_dist  geopyGrtCir_dist   Fare per k/m  \n",
              "count    385221.000000     385221.000000  385221.000000  \n",
              "mean          3.390619          3.389580       5.435536  \n",
              "std           3.969135          3.965470      21.657330  \n",
              "min           0.002129          0.002129       0.020000  \n",
              "25%           1.286503          1.285871       2.970000  \n",
              "50%           2.185659          2.185190       3.810000  \n",
              "75%           3.963499          3.964440       5.030000  \n",
              "max         344.545070        343.669544     993.400024  "
            ]
          },
          "execution_count": 175,
          "metadata": {},
          "output_type": "execute_result"
        }
      ]
    },
    {
      "cell_type": "markdown",
      "metadata": {
        "id": "97b69348"
      },
      "source": [
        "## Exploratory Data Analysis"
      ],
      "id": "97b69348"
    },
    {
      "cell_type": "code",
      "metadata": {
        "id": "46f2454d",
        "outputId": "dc060a82-7a7d-40b7-8b55-6661c0877955"
      },
      "source": [
        "plt.scatter(df3.fare_amount, df3.distance,color='blue')\n",
        "plt.xlabel(\"distance\")\n",
        "plt.ylabel(\"fare_amount\")\n",
        "plt.show();"
      ],
      "id": "46f2454d",
      "execution_count": null,
      "outputs": [
        {
          "data": {
            "image/png": "[encoded data removed]",
            "text/plain": [
              "<Figure size 432x288 with 1 Axes>"
            ]
          },
          "metadata": {
            "needs_background": "light"
          },
          "output_type": "display_data"
        }
      ]
    },
    {
      "cell_type": "code",
      "metadata": {
        "id": "136237a1",
        "outputId": "338aebb8-53e1-4dc1-e9a1-0b6e2adc6476"
      },
      "source": [
        "plt.scatter( df3.fare_amount,df3.distance,color='blue')\n",
        "plt.show();"
      ],
      "id": "136237a1",
      "execution_count": null,
      "outputs": [
        {
          "data": {
            "image/png": "[encoded data removed]",
            "text/plain": [
              "<Figure size 432x288 with 1 Axes>"
            ]
          },
          "metadata": {
            "needs_background": "light"
          },
          "output_type": "display_data"
        }
      ]
    },
    {
      "cell_type": "code",
      "metadata": {
        "id": "1LLPYJISE7SI"
      },
      "source": [
        "## "
      ],
      "id": "1LLPYJISE7SI",
      "execution_count": null,
      "outputs": []
    },
    {
      "cell_type": "markdown",
      "metadata": {
        "id": "O62C3bY5E8ga"
      },
      "source": [
        "## prepare the dataset for training"
      ],
      "id": "O62C3bY5E8ga"
    },
    {
      "cell_type": "code",
      "metadata": {
        "colab": {
          "base_uri": "https://localhost:8080/",
          "height": 414
        },
        "id": "TUeRRkLIHzxZ",
        "outputId": "b22515a9-baa9-4c7f-aa52-5f510153fea1"
      },
      "source": [
        "inputs_df"
      ],
      "id": "TUeRRkLIHzxZ",
      "execution_count": null,
      "outputs": [
        {
          "output_type": "execute_result",
          "data": {
            "text/html": [
              "<div>\n",
              "<style scoped>\n",
              "    .dataframe tbody tr th:only-of-type {\n",
              "        vertical-align: middle;\n",
              "    }\n",
              "\n",
              "    .dataframe tbody tr th {\n",
              "        vertical-align: top;\n",
              "    }\n",
              "\n",
              "    .dataframe thead th {\n",
              "        text-align: right;\n",
              "    }\n",
              "</style>\n",
              "<table border=\"1\" class=\"dataframe\">\n",
              "  <thead>\n",
              "    <tr style=\"text-align: right;\">\n",
              "      <th></th>\n",
              "      <th>pickup_longitude</th>\n",
              "      <th>pickup_latitude</th>\n",
              "      <th>dropoff_longitude</th>\n",
              "      <th>dropoff_latitude</th>\n",
              "      <th>passenger_count</th>\n",
              "      <th>year</th>\n",
              "      <th>day</th>\n",
              "      <th>month</th>\n",
              "      <th>weekday</th>\n",
              "      <th>hour</th>\n",
              "      <th>distance</th>\n",
              "      <th>geopyDesic_dist</th>\n",
              "      <th>geopyGrtCir_dist</th>\n",
              "      <th>latdiff</th>\n",
              "      <th>londiff</th>\n",
              "      <th>euclidean</th>\n",
              "    </tr>\n",
              "  </thead>\n",
              "  <tbody>\n",
              "    <tr>\n",
              "      <th>0</th>\n",
              "      <td>0.628560</td>\n",
              "      <td>0.219500</td>\n",
              "      <td>0.629327</td>\n",
              "      <td>0.198902</td>\n",
              "      <td>0.0</td>\n",
              "      <td>0.000000</td>\n",
              "      <td>0.466667</td>\n",
              "      <td>0.454545</td>\n",
              "      <td>0.000000</td>\n",
              "      <td>0.739130</td>\n",
              "      <td>0.008329</td>\n",
              "      <td>0.008296</td>\n",
              "      <td>0.008326</td>\n",
              "      <td>0.429500</td>\n",
              "      <td>0.500151</td>\n",
              "      <td>0.006418</td>\n",
              "    </tr>\n",
              "    <tr>\n",
              "      <th>1</th>\n",
              "      <td>0.606103</td>\n",
              "      <td>0.216213</td>\n",
              "      <td>0.611346</td>\n",
              "      <td>0.219568</td>\n",
              "      <td>0.0</td>\n",
              "      <td>0.166667</td>\n",
              "      <td>0.133333</td>\n",
              "      <td>0.000000</td>\n",
              "      <td>0.166667</td>\n",
              "      <td>0.695652</td>\n",
              "      <td>0.068256</td>\n",
              "      <td>0.068031</td>\n",
              "      <td>0.068258</td>\n",
              "      <td>0.376597</td>\n",
              "      <td>0.488537</td>\n",
              "      <td>0.054210</td>\n",
              "    </tr>\n",
              "    <tr>\n",
              "      <th>2</th>\n",
              "      <td>0.610459</td>\n",
              "      <td>0.232616</td>\n",
              "      <td>0.609782</td>\n",
              "      <td>0.210249</td>\n",
              "      <td>0.2</td>\n",
              "      <td>0.333333</td>\n",
              "      <td>0.566667</td>\n",
              "      <td>0.636364</td>\n",
              "      <td>0.500000</td>\n",
              "      <td>0.000000</td>\n",
              "      <td>0.011225</td>\n",
              "      <td>0.011194</td>\n",
              "      <td>0.011225</td>\n",
              "      <td>0.430606</td>\n",
              "      <td>0.503971</td>\n",
              "      <td>0.009303</td>\n",
              "    </tr>\n",
              "    <tr>\n",
              "      <th>3</th>\n",
              "      <td>0.609884</td>\n",
              "      <td>0.223382</td>\n",
              "      <td>0.609739</td>\n",
              "      <td>0.212480</td>\n",
              "      <td>0.0</td>\n",
              "      <td>0.500000</td>\n",
              "      <td>0.666667</td>\n",
              "      <td>0.272727</td>\n",
              "      <td>0.833333</td>\n",
              "      <td>0.173913</td>\n",
              "      <td>0.022614</td>\n",
              "      <td>0.022526</td>\n",
              "      <td>0.022612</td>\n",
              "      <td>0.406951</td>\n",
              "      <td>0.502585</td>\n",
              "      <td>0.017237</td>\n",
              "    </tr>\n",
              "    <tr>\n",
              "      <th>4</th>\n",
              "      <td>0.612373</td>\n",
              "      <td>0.234829</td>\n",
              "      <td>0.614299</td>\n",
              "      <td>0.220089</td>\n",
              "      <td>0.0</td>\n",
              "      <td>0.166667</td>\n",
              "      <td>0.266667</td>\n",
              "      <td>0.181818</td>\n",
              "      <td>0.166667</td>\n",
              "      <td>0.304348</td>\n",
              "      <td>0.016147</td>\n",
              "      <td>0.016101</td>\n",
              "      <td>0.016148</td>\n",
              "      <td>0.413050</td>\n",
              "      <td>0.497173</td>\n",
              "      <td>0.013243</td>\n",
              "    </tr>\n",
              "    <tr>\n",
              "      <th>...</th>\n",
              "      <td>...</td>\n",
              "      <td>...</td>\n",
              "      <td>...</td>\n",
              "      <td>...</td>\n",
              "      <td>...</td>\n",
              "      <td>...</td>\n",
              "      <td>...</td>\n",
              "      <td>...</td>\n",
              "      <td>...</td>\n",
              "      <td>...</td>\n",
              "      <td>...</td>\n",
              "      <td>...</td>\n",
              "      <td>...</td>\n",
              "      <td>...</td>\n",
              "      <td>...</td>\n",
              "      <td>...</td>\n",
              "    </tr>\n",
              "    <tr>\n",
              "      <th>399995</th>\n",
              "      <td>0.609899</td>\n",
              "      <td>0.222273</td>\n",
              "      <td>0.607867</td>\n",
              "      <td>0.203743</td>\n",
              "      <td>0.0</td>\n",
              "      <td>0.666667</td>\n",
              "      <td>0.800000</td>\n",
              "      <td>0.909091</td>\n",
              "      <td>0.000000</td>\n",
              "      <td>0.521739</td>\n",
              "      <td>0.012897</td>\n",
              "      <td>0.012894</td>\n",
              "      <td>0.012895</td>\n",
              "      <td>0.424266</td>\n",
              "      <td>0.507508</td>\n",
              "      <td>0.012869</td>\n",
              "    </tr>\n",
              "    <tr>\n",
              "      <th>399996</th>\n",
              "      <td>0.608975</td>\n",
              "      <td>0.229200</td>\n",
              "      <td>0.609956</td>\n",
              "      <td>0.215962</td>\n",
              "      <td>0.2</td>\n",
              "      <td>0.666667</td>\n",
              "      <td>0.533333</td>\n",
              "      <td>1.000000</td>\n",
              "      <td>0.166667</td>\n",
              "      <td>0.434783</td>\n",
              "      <td>0.017278</td>\n",
              "      <td>0.017213</td>\n",
              "      <td>0.017278</td>\n",
              "      <td>0.410914</td>\n",
              "      <td>0.499649</td>\n",
              "      <td>0.013216</td>\n",
              "    </tr>\n",
              "    <tr>\n",
              "      <th>399997</th>\n",
              "      <td>0.609967</td>\n",
              "      <td>0.203605</td>\n",
              "      <td>0.614106</td>\n",
              "      <td>0.214531</td>\n",
              "      <td>0.0</td>\n",
              "      <td>0.833333</td>\n",
              "      <td>0.533333</td>\n",
              "      <td>1.000000</td>\n",
              "      <td>0.333333</td>\n",
              "      <td>0.304348</td>\n",
              "      <td>0.084957</td>\n",
              "      <td>0.084647</td>\n",
              "      <td>0.084958</td>\n",
              "      <td>0.362395</td>\n",
              "      <td>0.491405</td>\n",
              "      <td>0.065559</td>\n",
              "    </tr>\n",
              "    <tr>\n",
              "      <th>399998</th>\n",
              "      <td>0.610356</td>\n",
              "      <td>0.222407</td>\n",
              "      <td>0.610182</td>\n",
              "      <td>0.218743</td>\n",
              "      <td>0.6</td>\n",
              "      <td>0.333333</td>\n",
              "      <td>0.500000</td>\n",
              "      <td>0.000000</td>\n",
              "      <td>1.000000</td>\n",
              "      <td>0.695652</td>\n",
              "      <td>0.044173</td>\n",
              "      <td>0.044002</td>\n",
              "      <td>0.044171</td>\n",
              "      <td>0.390962</td>\n",
              "      <td>0.502660</td>\n",
              "      <td>0.033515</td>\n",
              "    </tr>\n",
              "    <tr>\n",
              "      <th>399999</th>\n",
              "      <td>0.609744</td>\n",
              "      <td>0.230607</td>\n",
              "      <td>0.609407</td>\n",
              "      <td>0.207391</td>\n",
              "      <td>1.0</td>\n",
              "      <td>1.000000</td>\n",
              "      <td>0.066667</td>\n",
              "      <td>0.363636</td>\n",
              "      <td>1.000000</td>\n",
              "      <td>0.739130</td>\n",
              "      <td>0.013398</td>\n",
              "      <td>0.013352</td>\n",
              "      <td>0.013399</td>\n",
              "      <td>0.432942</td>\n",
              "      <td>0.503087</td>\n",
              "      <td>0.010481</td>\n",
              "    </tr>\n",
              "  </tbody>\n",
              "</table>\n",
              "<p>387150 rows × 16 columns</p>\n",
              "</div>"
            ],
            "text/plain": [
              "        pickup_longitude  pickup_latitude  ...   londiff  euclidean\n",
              "0               0.628560         0.219500  ...  0.500151   0.006418\n",
              "1               0.606103         0.216213  ...  0.488537   0.054210\n",
              "2               0.610459         0.232616  ...  0.503971   0.009303\n",
              "3               0.609884         0.223382  ...  0.502585   0.017237\n",
              "4               0.612373         0.234829  ...  0.497173   0.013243\n",
              "...                  ...              ...  ...       ...        ...\n",
              "399995          0.609899         0.222273  ...  0.507508   0.012869\n",
              "399996          0.608975         0.229200  ...  0.499649   0.013216\n",
              "399997          0.609967         0.203605  ...  0.491405   0.065559\n",
              "399998          0.610356         0.222407  ...  0.502660   0.033515\n",
              "399999          0.609744         0.230607  ...  0.503087   0.010481\n",
              "\n",
              "[387150 rows x 16 columns]"
            ]
          },
          "metadata": {},
          "execution_count": 109
        }
      ]
    },
    {
      "cell_type": "code",
      "metadata": {
        "colab": {
          "base_uri": "https://localhost:8080/"
        },
        "id": "hVmbfh2EaT2p",
        "outputId": "2bbcf591-0dc0-4221-d151-90822b9d041e"
      },
      "source": [
        "df3.columns"
      ],
      "id": "hVmbfh2EaT2p",
      "execution_count": null,
      "outputs": [
        {
          "output_type": "execute_result",
          "data": {
            "text/plain": [
              "Index(['fare_amount', 'pickup_longitude', 'pickup_latitude',\n",
              "       'dropoff_longitude', 'dropoff_latitude', 'passenger_count', 'year',\n",
              "       'day', 'month', 'weekday', 'hour', 'distance', 'geopyDesic_dist',\n",
              "       'geopyGrtCir_dist', 'latdiff', 'londiff', 'euclidean'],\n",
              "      dtype='object')"
            ]
          },
          "metadata": {},
          "execution_count": 110
        }
      ]
    },
    {
      "cell_type": "code",
      "metadata": {
        "id": "RR0AFSuCaUA0"
      },
      "source": [
        "# Drop unwanted columns\n",
        "dropped_columns = ['pickup_longitude', 'pickup_latitude', \n",
        "                   'dropoff_longitude', 'dropoff_latitude','distance']\n",
        "df3 = df3.drop(dropped_columns, axis=1)"
      ],
      "id": "RR0AFSuCaUA0",
      "execution_count": null,
      "outputs": []
    },
    {
      "cell_type": "code",
      "metadata": {
        "id": "xq1iW87HjW6h"
      },
      "source": [
        "df4=df3.copy()"
      ],
      "id": "xq1iW87HjW6h",
      "execution_count": null,
      "outputs": []
    },
    {
      "cell_type": "code",
      "metadata": {
        "id": "f1dca415"
      },
      "source": [
        "import numpy as np\n",
        "from sklearn.impute import SimpleImputer\n",
        "from sklearn.preprocessing import MinMaxScaler, OneHotEncoder\n",
        "from sklearn.model_selection import train_test_split\n",
        "\n",
        "# Identify input and target columns\n",
        "input_cols, target_col = df4.columns[1:], df4.columns[:1]\n",
        "inputs_df, targets = df4[input_cols].copy(), df4[target_col].copy()\n",
        "\n",
        "# Identify numeric and categorical columns\n",
        "numeric_cols = df4[input_cols].select_dtypes(include=np.number).columns.tolist()\n"
      ],
      "id": "f1dca415",
      "execution_count": null,
      "outputs": []
    },
    {
      "cell_type": "code",
      "metadata": {
        "id": "46269526"
      },
      "source": [
        "imputer = SimpleImputer().fit(inputs_df[numeric_cols])\n",
        "\n",
        "### #Impute and scale numeric columns\n",
        "imputer = SimpleImputer().fit(inputs_df[numeric_cols])\n",
        "inputs_df[numeric_cols] = imputer.transform(inputs_df[numeric_cols])\n",
        "scaler = MinMaxScaler().fit(inputs_df[numeric_cols])\n",
        "inputs_df[numeric_cols] = scaler.transform(inputs_df[numeric_cols])"
      ],
      "id": "46269526",
      "execution_count": null,
      "outputs": []
    },
    {
      "cell_type": "code",
      "metadata": {
        "id": "fbcee869"
      },
      "source": [
        "\n",
        "# Create training and validation sets\n",
        "train_inputs, val_inputs, train_targets, val_targets = train_test_split(\n",
        "    inputs_df[numeric_cols], targets, test_size=0.25, random_state=42)"
      ],
      "id": "fbcee869",
      "execution_count": null,
      "outputs": []
    },
    {
      "cell_type": "markdown",
      "metadata": {
        "id": "iHk1H06TFd9E"
      },
      "source": [
        "## decision tree"
      ],
      "id": "iHk1H06TFd9E"
    },
    {
      "cell_type": "code",
      "metadata": {
        "id": "fd2747f8"
      },
      "source": [
        "from sklearn.tree import DecisionTreeRegressor\n",
        "from sklearn.metrics import mean_squared_error"
      ],
      "id": "fd2747f8",
      "execution_count": null,
      "outputs": []
    },
    {
      "cell_type": "code",
      "metadata": {
        "id": "d7c60c9a"
      },
      "source": [
        "tree = DecisionTreeRegressor(random_state=42)"
      ],
      "id": "d7c60c9a",
      "execution_count": null,
      "outputs": []
    },
    {
      "cell_type": "code",
      "metadata": {
        "colab": {
          "base_uri": "https://localhost:8080/"
        },
        "id": "fd0b1d45",
        "outputId": "8a847d8d-004e-47da-f38b-066fe791c795"
      },
      "source": [
        "# Fit the model to the training data\n",
        "tree.fit(train_inputs,train_targets)"
      ],
      "id": "fd0b1d45",
      "execution_count": null,
      "outputs": [
        {
          "output_type": "execute_result",
          "data": {
            "text/plain": [
              "DecisionTreeRegressor(ccp_alpha=0.0, criterion='mse', max_depth=None,\n",
              "                      max_features=None, max_leaf_nodes=None,\n",
              "                      min_impurity_decrease=0.0, min_impurity_split=None,\n",
              "                      min_samples_leaf=1, min_samples_split=2,\n",
              "                      min_weight_fraction_leaf=0.0, presort='deprecated',\n",
              "                      random_state=42, splitter='best')"
            ]
          },
          "metadata": {},
          "execution_count": 201
        }
      ]
    },
    {
      "cell_type": "code",
      "metadata": {
        "id": "9e5d1cba"
      },
      "source": [
        "tree_train_preds = tree.predict(train_inputs)"
      ],
      "id": "9e5d1cba",
      "execution_count": null,
      "outputs": []
    },
    {
      "cell_type": "code",
      "metadata": {
        "colab": {
          "base_uri": "https://localhost:8080/"
        },
        "id": "0a4961cd",
        "outputId": "852cd967-98d2-4faa-d094-445d9c707564"
      },
      "source": [
        "tree_train_preds"
      ],
      "id": "0a4961cd",
      "execution_count": null,
      "outputs": [
        {
          "output_type": "execute_result",
          "data": {
            "text/plain": [
              "array([ 8.10000038, 16.        , 13.        , ...,  4.9000001 ,\n",
              "        6.5       , 11.30000019])"
            ]
          },
          "metadata": {},
          "execution_count": 203
        }
      ]
    },
    {
      "cell_type": "code",
      "metadata": {
        "id": "424505d1"
      },
      "source": [
        "tree_train_rmse = mean_squared_error(train_targets,tree_train_preds,squared=False)"
      ],
      "id": "424505d1",
      "execution_count": null,
      "outputs": []
    },
    {
      "cell_type": "code",
      "metadata": {
        "id": "376e7009"
      },
      "source": [
        "tree_val_preds = tree.predict(val_inputs)"
      ],
      "id": "376e7009",
      "execution_count": null,
      "outputs": []
    },
    {
      "cell_type": "code",
      "metadata": {
        "id": "173ff639"
      },
      "source": [
        "tree_val_rmse = mean_squared_error(val_targets,tree_val_preds,squared=False)"
      ],
      "id": "173ff639",
      "execution_count": null,
      "outputs": []
    },
    {
      "cell_type": "code",
      "metadata": {
        "colab": {
          "base_uri": "https://localhost:8080/"
        },
        "id": "d6d95e24",
        "outputId": "b38ded1e-950b-4e58-f5bc-177cc05ed218"
      },
      "source": [
        "print('Train RMSE: {}, Validation RMSE: {}'.format(tree_train_rmse, tree_val_rmse))"
      ],
      "id": "d6d95e24",
      "execution_count": null,
      "outputs": [
        {
          "output_type": "stream",
          "text": [
            "Train RMSE: 0.0, Validation RMSE: 4.908723172585197\n"
          ],
          "name": "stdout"
        }
      ]
    },
    {
      "cell_type": "code",
      "metadata": {
        "colab": {
          "base_uri": "https://localhost:8080/"
        },
        "id": "-e1dIl_YkAoD",
        "outputId": "daf2141e-6fc3-45a5-a21f-c08992e986cf"
      },
      "source": [
        "df4['fare_amount'].mean()"
      ],
      "id": "-e1dIl_YkAoD",
      "execution_count": null,
      "outputs": [
        {
          "output_type": "execute_result",
          "data": {
            "text/plain": [
              "11.29724407196045"
            ]
          },
          "metadata": {},
          "execution_count": 221
        }
      ]
    },
    {
      "cell_type": "code",
      "metadata": {
        "id": "837fd42a"
      },
      "source": [
        "import matplotlib.pyplot as plt\n",
        "from sklearn.tree import plot_tree, export_text\n",
        "import seaborn as sns\n",
        "sns.set_style('darkgrid')\n",
        "%matplotlib inline"
      ],
      "id": "837fd42a",
      "execution_count": null,
      "outputs": []
    },
    {
      "cell_type": "code",
      "metadata": {
        "colab": {
          "base_uri": "https://localhost:8080/",
          "height": 845
        },
        "id": "6e519d0f",
        "outputId": "559857c8-b3ad-4942-fecd-3c133b6c3662"
      },
      "source": [
        "plt.figure(figsize=(30,15))\n",
        "\n",
        "# Visualize the tree graphically using plot_tree\n",
        "plot_tree(tree, feature_names=train_inputs.columns, max_depth=2, filled=True);"
      ],
      "id": "6e519d0f",
      "execution_count": null,
      "outputs": [
        {
          "output_type": "display_data",
          "data": {
            "image/png": "[encoded data removed]",
            "text/plain": [
              "<Figure size 2160x1080 with 1 Axes>"
            ]
          },
          "metadata": {
            "needs_background": "light"
          }
        }
      ]
    },
    {
      "cell_type": "code",
      "metadata": {
        "id": "21747bcd"
      },
      "source": [
        "# Visualize the tree textually using export_text\n",
        "tree_text = export_text(tree, max_depth=10, feature_names=list(train_inputs.columns))"
      ],
      "id": "21747bcd",
      "execution_count": null,
      "outputs": []
    },
    {
      "cell_type": "code",
      "metadata": {
        "colab": {
          "base_uri": "https://localhost:8080/"
        },
        "id": "2426ffb4",
        "outputId": "af5f91cb-0a86-47c2-dfca-9f5b542d57fd"
      },
      "source": [
        "# Display the first few lines\n",
        "print(tree_text[:2000])"
      ],
      "id": "2426ffb4",
      "execution_count": null,
      "outputs": [
        {
          "output_type": "stream",
          "text": [
            "|--- euclidean <= 0.06\n",
            "|   |--- euclidean <= 0.02\n",
            "|   |   |--- euclidean <= 0.01\n",
            "|   |   |   |--- pickup_longitude <= 0.63\n",
            "|   |   |   |   |--- euclidean <= 0.01\n",
            "|   |   |   |   |   |--- pickup_longitude <= 0.61\n",
            "|   |   |   |   |   |   |--- euclidean <= 0.00\n",
            "|   |   |   |   |   |   |   |--- geopyDesic_dist <= 0.00\n",
            "|   |   |   |   |   |   |   |   |--- day <= 0.53\n",
            "|   |   |   |   |   |   |   |   |   |--- euclidean <= 0.00\n",
            "|   |   |   |   |   |   |   |   |   |   |--- passenger_count <= 0.50\n",
            "|   |   |   |   |   |   |   |   |   |   |   |--- truncated branch of depth 3\n",
            "|   |   |   |   |   |   |   |   |   |   |--- passenger_count >  0.50\n",
            "|   |   |   |   |   |   |   |   |   |   |   |--- value: [5.00]\n",
            "|   |   |   |   |   |   |   |   |   |--- euclidean >  0.00\n",
            "|   |   |   |   |   |   |   |   |   |   |--- value: [2.50]\n",
            "|   |   |   |   |   |   |   |   |--- day >  0.53\n",
            "|   |   |   |   |   |   |   |   |   |--- hour <= 0.83\n",
            "|   |   |   |   |   |   |   |   |   |   |--- value: [2.50]\n",
            "|   |   |   |   |   |   |   |   |   |--- hour >  0.83\n",
            "|   |   |   |   |   |   |   |   |   |   |--- latdiff <= 0.42\n",
            "|   |   |   |   |   |   |   |   |   |   |   |--- value: [2.50]\n",
            "|   |   |   |   |   |   |   |   |   |   |--- latdiff >  0.42\n",
            "|   |   |   |   |   |   |   |   |   |   |   |--- value: [3.70]\n",
            "|   |   |   |   |   |   |   |--- geopyDesic_dist >  0.00\n",
            "|   |   |   |   |   |   |   |   |--- year <= 0.58\n",
            "|   |   |   |   |   |   |   |   |   |--- pickup_latitude <= 0.21\n",
            "|   |   |   |   |   |   |   |   |   |   |--- londiff <= 0.50\n",
            "|   |   |   |   |   |   |   |   |   |   |   |--- truncated branch of depth 4\n",
            "|   |   |   |   |   |   |   |   |   |   |--- londiff >  0.50\n",
            "|   |   |   |   |   |   |   |   |   |   |   |--- value: [26.90]\n",
            "|   |   |   |   |   |   |   |   |   |--- pickup_latitude >  0.21\n",
            "|   |   |   |   |   |   |   |   |   |   |--- pickup_longitude <= 0.61\n",
            "|   |   |   |   |   |   |   |   |   |   |   |--- truncated branch of depth 10\n",
            "|   |   |   |   |   |   |   |   |   |   |--- pickup_longitude >  0.6\n"
          ],
          "name": "stdout"
        }
      ]
    },
    {
      "cell_type": "code",
      "metadata": {
        "id": "3f1e4763"
      },
      "source": [
        "# Check feature importance\n",
        "tree_importances = tree.feature_importances_"
      ],
      "id": "3f1e4763",
      "execution_count": null,
      "outputs": []
    },
    {
      "cell_type": "code",
      "metadata": {
        "id": "810b92a1"
      },
      "source": [
        "tree_importance_df = pd.DataFrame({\n",
        "    'feature': train_inputs.columns,\n",
        "    'importance': tree_importances\n",
        "}).sort_values('importance', ascending=False)"
      ],
      "id": "810b92a1",
      "execution_count": null,
      "outputs": []
    },
    {
      "cell_type": "code",
      "metadata": {
        "colab": {
          "base_uri": "https://localhost:8080/",
          "height": 508
        },
        "id": "3754b29f",
        "outputId": "1260f685-b342-4c98-a892-e8a3a8a857e7"
      },
      "source": [
        "tree_importance_df"
      ],
      "id": "3754b29f",
      "execution_count": null,
      "outputs": [
        {
          "output_type": "execute_result",
          "data": {
            "text/html": [
              "<div>\n",
              "<style scoped>\n",
              "    .dataframe tbody tr th:only-of-type {\n",
              "        vertical-align: middle;\n",
              "    }\n",
              "\n",
              "    .dataframe tbody tr th {\n",
              "        vertical-align: top;\n",
              "    }\n",
              "\n",
              "    .dataframe thead th {\n",
              "        text-align: right;\n",
              "    }\n",
              "</style>\n",
              "<table border=\"1\" class=\"dataframe\">\n",
              "  <thead>\n",
              "    <tr style=\"text-align: right;\">\n",
              "      <th></th>\n",
              "      <th>feature</th>\n",
              "      <th>importance</th>\n",
              "    </tr>\n",
              "  </thead>\n",
              "  <tbody>\n",
              "    <tr>\n",
              "      <th>14</th>\n",
              "      <td>euclidean</td>\n",
              "      <td>0.806618</td>\n",
              "    </tr>\n",
              "    <tr>\n",
              "      <th>2</th>\n",
              "      <td>dropoff_longitude</td>\n",
              "      <td>0.030483</td>\n",
              "    </tr>\n",
              "    <tr>\n",
              "      <th>5</th>\n",
              "      <td>year</td>\n",
              "      <td>0.024115</td>\n",
              "    </tr>\n",
              "    <tr>\n",
              "      <th>0</th>\n",
              "      <td>pickup_longitude</td>\n",
              "      <td>0.021004</td>\n",
              "    </tr>\n",
              "    <tr>\n",
              "      <th>12</th>\n",
              "      <td>latdiff</td>\n",
              "      <td>0.017596</td>\n",
              "    </tr>\n",
              "    <tr>\n",
              "      <th>3</th>\n",
              "      <td>dropoff_latitude</td>\n",
              "      <td>0.017563</td>\n",
              "    </tr>\n",
              "    <tr>\n",
              "      <th>13</th>\n",
              "      <td>londiff</td>\n",
              "      <td>0.014633</td>\n",
              "    </tr>\n",
              "    <tr>\n",
              "      <th>1</th>\n",
              "      <td>pickup_latitude</td>\n",
              "      <td>0.012119</td>\n",
              "    </tr>\n",
              "    <tr>\n",
              "      <th>11</th>\n",
              "      <td>geopyGrtCir_dist</td>\n",
              "      <td>0.011922</td>\n",
              "    </tr>\n",
              "    <tr>\n",
              "      <th>9</th>\n",
              "      <td>hour</td>\n",
              "      <td>0.011101</td>\n",
              "    </tr>\n",
              "    <tr>\n",
              "      <th>10</th>\n",
              "      <td>geopyDesic_dist</td>\n",
              "      <td>0.010541</td>\n",
              "    </tr>\n",
              "    <tr>\n",
              "      <th>6</th>\n",
              "      <td>day</td>\n",
              "      <td>0.007554</td>\n",
              "    </tr>\n",
              "    <tr>\n",
              "      <th>7</th>\n",
              "      <td>month</td>\n",
              "      <td>0.006762</td>\n",
              "    </tr>\n",
              "    <tr>\n",
              "      <th>8</th>\n",
              "      <td>weekday</td>\n",
              "      <td>0.005176</td>\n",
              "    </tr>\n",
              "    <tr>\n",
              "      <th>4</th>\n",
              "      <td>passenger_count</td>\n",
              "      <td>0.002811</td>\n",
              "    </tr>\n",
              "  </tbody>\n",
              "</table>\n",
              "</div>"
            ],
            "text/plain": [
              "              feature  importance\n",
              "14          euclidean    0.806618\n",
              "2   dropoff_longitude    0.030483\n",
              "5                year    0.024115\n",
              "0    pickup_longitude    0.021004\n",
              "12            latdiff    0.017596\n",
              "3    dropoff_latitude    0.017563\n",
              "13            londiff    0.014633\n",
              "1     pickup_latitude    0.012119\n",
              "11   geopyGrtCir_dist    0.011922\n",
              "9                hour    0.011101\n",
              "10    geopyDesic_dist    0.010541\n",
              "6                 day    0.007554\n",
              "7               month    0.006762\n",
              "8             weekday    0.005176\n",
              "4     passenger_count    0.002811"
            ]
          },
          "metadata": {},
          "execution_count": 225
        }
      ]
    },
    {
      "cell_type": "code",
      "metadata": {
        "colab": {
          "base_uri": "https://localhost:8080/",
          "height": 294
        },
        "id": "e3b63b02",
        "outputId": "3b960de9-3eeb-4603-ebae-e359c9455c34"
      },
      "source": [
        "plt.title('Decision Tree Feature Importance')\n",
        "sns.barplot(data=tree_importance_df.head(10), x='importance', y='feature');"
      ],
      "id": "e3b63b02",
      "execution_count": null,
      "outputs": [
        {
          "output_type": "display_data",
          "data": {
            "image/png": "[encoded data removed]",
            "text/plain": [
              "<Figure size 432x288 with 1 Axes>"
            ]
          },
          "metadata": {
            "needs_background": "light"
          }
        }
      ]
    },
    {
      "cell_type": "markdown",
      "metadata": {
        "id": "559808d2"
      },
      "source": [
        "## Random Forests"
      ],
      "id": "559808d2"
    },
    {
      "cell_type": "code",
      "metadata": {
        "id": "1eaa317f"
      },
      "source": [
        "from sklearn.ensemble import RandomForestRegressor"
      ],
      "id": "1eaa317f",
      "execution_count": null,
      "outputs": []
    },
    {
      "cell_type": "code",
      "metadata": {
        "id": "752a1a27"
      },
      "source": [
        "# Create the model\n",
        "rf1 = RandomForestRegressor(n_estimators=50, max_depth=10, min_samples_leaf=4, max_features=0.4)"
      ],
      "id": "752a1a27",
      "execution_count": null,
      "outputs": []
    },
    {
      "cell_type": "code",
      "metadata": {
        "colab": {
          "base_uri": "https://localhost:8080/"
        },
        "id": "581c64da",
        "outputId": "17f8c3da-fe7e-4fe8-9775-16a9ab01c442"
      },
      "source": [
        "# Fit the model\n",
        "rf1.fit(train_inputs,train_targets)"
      ],
      "id": "581c64da",
      "execution_count": null,
      "outputs": [
        {
          "output_type": "stream",
          "text": [
            "/usr/local/lib/python3.7/dist-packages/ipykernel_launcher.py:2: DataConversionWarning: A column-vector y was passed when a 1d array was expected. Please change the shape of y to (n_samples,), for example using ravel().\n",
            "  \n"
          ],
          "name": "stderr"
        },
        {
          "output_type": "execute_result",
          "data": {
            "text/plain": [
              "RandomForestRegressor(bootstrap=True, ccp_alpha=0.0, criterion='mse',\n",
              "                      max_depth=10, max_features=0.4, max_leaf_nodes=None,\n",
              "                      max_samples=None, min_impurity_decrease=0.0,\n",
              "                      min_impurity_split=None, min_samples_leaf=4,\n",
              "                      min_samples_split=2, min_weight_fraction_leaf=0.0,\n",
              "                      n_estimators=50, n_jobs=None, oob_score=False,\n",
              "                      random_state=None, verbose=0, warm_start=False)"
            ]
          },
          "metadata": {},
          "execution_count": 229
        }
      ]
    },
    {
      "cell_type": "code",
      "metadata": {
        "id": "e4243644"
      },
      "source": [
        "rf1_train_preds = rf1.predict(train_inputs)"
      ],
      "id": "e4243644",
      "execution_count": null,
      "outputs": []
    },
    {
      "cell_type": "code",
      "metadata": {
        "id": "90d5fc1e"
      },
      "source": [
        "rf1_train_rmse = mean_squared_error(train_targets,rf1_train_preds,squared=False)"
      ],
      "id": "90d5fc1e",
      "execution_count": null,
      "outputs": []
    },
    {
      "cell_type": "code",
      "metadata": {
        "id": "56b7dfb3"
      },
      "source": [
        "rf1_val_preds = rf1.predict(val_inputs)"
      ],
      "id": "56b7dfb3",
      "execution_count": null,
      "outputs": []
    },
    {
      "cell_type": "code",
      "metadata": {
        "id": "585b8584"
      },
      "source": [
        "rf1_val_rmse = mean_squared_error(val_targets,rf1_val_preds,squared=False)"
      ],
      "id": "585b8584",
      "execution_count": null,
      "outputs": []
    },
    {
      "cell_type": "code",
      "metadata": {
        "colab": {
          "base_uri": "https://localhost:8080/"
        },
        "id": "c76937d5",
        "outputId": "5c91d203-dc84-4878-8185-e711d0574d8f"
      },
      "source": [
        "print('Train RMSE: {}, Validation RMSE: {}'.format(rf1_train_rmse, rf1_val_rmse))"
      ],
      "id": "c76937d5",
      "execution_count": null,
      "outputs": [
        {
          "output_type": "stream",
          "text": [
            "Train RMSE: 3.296740821964689, Validation RMSE: 3.616772741871909\n"
          ],
          "name": "stdout"
        }
      ]
    },
    {
      "cell_type": "markdown",
      "metadata": {
        "id": "2ffc1cbc"
      },
      "source": [
        "## Hyperparameter Tuning\n"
      ],
      "id": "2ffc1cbc"
    },
    {
      "cell_type": "code",
      "metadata": {
        "id": "ca14d5a6"
      },
      "source": [
        "def test_params(**params):\n",
        "    model = RandomForestRegressor(random_state=42, n_jobs=-1, **params).fit(train_inputs, train_targets)\n",
        "    train_rmse = mean_squared_error(model.predict(train_inputs), train_targets, squared=False)\n",
        "    val_rmse = mean_squared_error(model.predict(val_inputs), val_targets, squared=False)\n",
        "    return train_rmse, val_rmse"
      ],
      "id": "ca14d5a6",
      "execution_count": null,
      "outputs": []
    },
    {
      "cell_type": "code",
      "metadata": {
        "id": "d9bab859"
      },
      "source": [
        "def test_param_and_plot(param_name, param_values):\n",
        "    train_errors, val_errors = [], [] \n",
        "    for value in param_values:\n",
        "        params = {param_name: value}\n",
        "        train_rmse, val_rmse = test_params(**params)\n",
        "        train_errors.append(train_rmse)\n",
        "        val_errors.append(val_rmse)\n",
        "    plt.figure(figsize=(10,6))\n",
        "    plt.title('Overfitting curve: ' + param_name)\n",
        "    plt.plot(param_values, train_errors, 'b-o')\n",
        "    plt.plot(param_values, val_errors, 'r-o')\n",
        "    plt.xlabel(param_name)\n",
        "    plt.ylabel('RMSE')\n",
        "    plt.legend(['Training', 'Validation'])"
      ],
      "id": "d9bab859",
      "execution_count": null,
      "outputs": []
    },
    {
      "cell_type": "code",
      "metadata": {
        "colab": {
          "base_uri": "https://localhost:8080/"
        },
        "id": "2d5f4afb",
        "outputId": "f1a704fb-5635-4b18-c71d-dfcc5f695ede"
      },
      "source": [
        "test_params(n_estimators=50, max_depth=10, min_samples_leaf=4, max_features=0.4)"
      ],
      "id": "2d5f4afb",
      "execution_count": null,
      "outputs": [
        {
          "output_type": "stream",
          "text": [
            "/usr/local/lib/python3.7/dist-packages/ipykernel_launcher.py:2: DataConversionWarning: A column-vector y was passed when a 1d array was expected. Please change the shape of y to (n_samples,), for example using ravel().\n",
            "  \n"
          ],
          "name": "stderr"
        },
        {
          "output_type": "execute_result",
          "data": {
            "text/plain": [
              "(3.2944689809853425, 3.6139466008241716)"
            ]
          },
          "metadata": {},
          "execution_count": 237
        }
      ]
    },
    {
      "cell_type": "code",
      "metadata": {
        "id": "b652fe2e",
        "outputId": "94605771-967a-4024-b382-b373ecf8abb7"
      },
      "source": [
        "test_param_and_plot('max_depth', [5, 10, 15, 20, 25, 30, 35])"
      ],
      "id": "b652fe2e",
      "execution_count": null,
      "outputs": [
        {
          "name": "stderr",
          "output_type": "stream",
          "text": [
            "<ipython-input-332-0a934fac384a>:2: DataConversionWarning: A column-vector y was passed when a 1d array was expected. Please change the shape of y to (n_samples,), for example using ravel().\n",
            "  model = RandomForestRegressor(random_state=42, n_jobs=-1, **params).fit(train_inputs, train_targets)\n",
            "<ipython-input-332-0a934fac384a>:2: DataConversionWarning: A column-vector y was passed when a 1d array was expected. Please change the shape of y to (n_samples,), for example using ravel().\n",
            "  model = RandomForestRegressor(random_state=42, n_jobs=-1, **params).fit(train_inputs, train_targets)\n",
            "<ipython-input-332-0a934fac384a>:2: DataConversionWarning: A column-vector y was passed when a 1d array was expected. Please change the shape of y to (n_samples,), for example using ravel().\n",
            "  model = RandomForestRegressor(random_state=42, n_jobs=-1, **params).fit(train_inputs, train_targets)\n",
            "<ipython-input-332-0a934fac384a>:2: DataConversionWarning: A column-vector y was passed when a 1d array was expected. Please change the shape of y to (n_samples,), for example using ravel().\n",
            "  model = RandomForestRegressor(random_state=42, n_jobs=-1, **params).fit(train_inputs, train_targets)\n",
            "<ipython-input-332-0a934fac384a>:2: DataConversionWarning: A column-vector y was passed when a 1d array was expected. Please change the shape of y to (n_samples,), for example using ravel().\n",
            "  model = RandomForestRegressor(random_state=42, n_jobs=-1, **params).fit(train_inputs, train_targets)\n",
            "<ipython-input-332-0a934fac384a>:2: DataConversionWarning: A column-vector y was passed when a 1d array was expected. Please change the shape of y to (n_samples,), for example using ravel().\n",
            "  model = RandomForestRegressor(random_state=42, n_jobs=-1, **params).fit(train_inputs, train_targets)\n",
            "<ipython-input-332-0a934fac384a>:2: DataConversionWarning: A column-vector y was passed when a 1d array was expected. Please change the shape of y to (n_samples,), for example using ravel().\n",
            "  model = RandomForestRegressor(random_state=42, n_jobs=-1, **params).fit(train_inputs, train_targets)\n"
          ]
        },
        {
          "data": {
            "image/png": "[encoded data removed]",
            "text/plain": [
              "<Figure size 720x432 with 1 Axes>"
            ]
          },
          "metadata": {
            "needs_background": "light"
          },
          "output_type": "display_data"
        }
      ]
    },
    {
      "cell_type": "code",
      "metadata": {
        "colab": {
          "base_uri": "https://localhost:8080/"
        },
        "id": "6bc3402a",
        "outputId": "84db9d32-a291-480f-a65e-cb8171fd7120"
      },
      "source": [
        "test_params(n_estimators=15)"
      ],
      "id": "6bc3402a",
      "execution_count": null,
      "outputs": [
        {
          "output_type": "stream",
          "text": [
            "/usr/local/lib/python3.7/dist-packages/ipykernel_launcher.py:2: DataConversionWarning: A column-vector y was passed when a 1d array was expected. Please change the shape of y to (n_samples,), for example using ravel().\n",
            "  \n"
          ],
          "name": "stderr"
        },
        {
          "output_type": "execute_result",
          "data": {
            "text/plain": [
              "(1.4114097254305, 3.5883642759109198)"
            ]
          },
          "metadata": {},
          "execution_count": 238
        }
      ]
    },
    {
      "cell_type": "code",
      "metadata": {
        "colab": {
          "base_uri": "https://localhost:8080/"
        },
        "id": "1989b5da",
        "outputId": "fd2aff5d-fda4-4b6c-a563-3ef68cf0d13f"
      },
      "source": [
        "test_params(n_estimators=35)"
      ],
      "id": "1989b5da",
      "execution_count": null,
      "outputs": [
        {
          "output_type": "stream",
          "text": [
            "/usr/local/lib/python3.7/dist-packages/ipykernel_launcher.py:2: DataConversionWarning: A column-vector y was passed when a 1d array was expected. Please change the shape of y to (n_samples,), for example using ravel().\n",
            "  \n"
          ],
          "name": "stderr"
        },
        {
          "output_type": "execute_result",
          "data": {
            "text/plain": [
              "(1.320714779831337, 3.5232343593507816)"
            ]
          },
          "metadata": {},
          "execution_count": 239
        }
      ]
    },
    {
      "cell_type": "code",
      "metadata": {
        "scrolled": true,
        "colab": {
          "base_uri": "https://localhost:8080/"
        },
        "id": "e631c051",
        "outputId": "9c9c68e9-d2d4-4d9f-be59-af56fc2d7063"
      },
      "source": [
        "test_params(n_estimators=75)"
      ],
      "id": "e631c051",
      "execution_count": null,
      "outputs": [
        {
          "output_type": "stream",
          "text": [
            "/usr/local/lib/python3.7/dist-packages/ipykernel_launcher.py:2: DataConversionWarning: A column-vector y was passed when a 1d array was expected. Please change the shape of y to (n_samples,), for example using ravel().\n",
            "  \n"
          ],
          "name": "stderr"
        },
        {
          "output_type": "execute_result",
          "data": {
            "text/plain": [
              "(1.2763350877760467, 3.5117780687322195)"
            ]
          },
          "metadata": {},
          "execution_count": 240
        }
      ]
    },
    {
      "cell_type": "markdown",
      "metadata": {
        "id": "827aaa0f"
      },
      "source": [
        "#### This seems to be a best fit param for RandomForrest"
      ],
      "id": "827aaa0f"
    },
    {
      "cell_type": "code",
      "metadata": {
        "colab": {
          "base_uri": "https://localhost:8080/"
        },
        "id": "qGDKzzpDmmJM",
        "outputId": "64219cd8-8004-4cfc-8bda-fe9d52f154de"
      },
      "source": [
        "test_params(n_estimators=35, max_depth=10)"
      ],
      "id": "qGDKzzpDmmJM",
      "execution_count": null,
      "outputs": [
        {
          "output_type": "stream",
          "text": [
            "/usr/local/lib/python3.7/dist-packages/ipykernel_launcher.py:2: DataConversionWarning: A column-vector y was passed when a 1d array was expected. Please change the shape of y to (n_samples,), for example using ravel().\n",
            "  \n"
          ],
          "name": "stderr"
        },
        {
          "output_type": "execute_result",
          "data": {
            "text/plain": [
              "(3.1968016742121717, 3.630390590774698)"
            ]
          },
          "metadata": {},
          "execution_count": 243
        }
      ]
    },
    {
      "cell_type": "markdown",
      "metadata": {
        "id": "73a62d37"
      },
      "source": [
        "# Validate Test Data"
      ],
      "id": "73a62d37"
    },
    {
      "cell_type": "code",
      "metadata": {
        "id": "b3147f22",
        "outputId": "131801df-cc25-4637-b276-f457843c6e97"
      },
      "source": [
        "\n",
        "df3_test.columns"
      ],
      "id": "b3147f22",
      "execution_count": null,
      "outputs": [
        {
          "data": {
            "text/plain": [
              "Index(['key', 'pickup_longitude', 'pickup_latitude', 'dropoff_longitude',\n",
              "       'dropoff_latitude', 'passenger_count', 'year', 'day', 'month',\n",
              "       'weekday', 'hour', 'distance', 'geopyDesic_dist', 'geopyGrtCir_dist'],\n",
              "      dtype='object')"
            ]
          },
          "execution_count": 341,
          "metadata": {},
          "output_type": "execute_result"
        }
      ]
    },
    {
      "cell_type": "code",
      "metadata": {
        "id": "143b0f19"
      },
      "source": [
        "selected_cols = ['pickup_longitude', 'pickup_latitude', 'dropoff_longitude',\n",
        "       'dropoff_latitude', 'passenger_count', 'year', 'day', 'month',\n",
        "       'weekday', 'hour', 'distance', 'geopyDesic_dist', 'geopyGrtCir_dist']"
      ],
      "id": "143b0f19",
      "execution_count": null,
      "outputs": []
    },
    {
      "cell_type": "code",
      "metadata": {
        "id": "eada4f64",
        "outputId": "f2fc57e7-c7bd-4f08-9ddb-4ca1c9a139d4"
      },
      "source": [
        "train_inputs.columns"
      ],
      "id": "eada4f64",
      "execution_count": null,
      "outputs": [
        {
          "data": {
            "text/plain": [
              "Index(['pickup_longitude', 'pickup_latitude', 'dropoff_longitude',\n",
              "       'dropoff_latitude', 'passenger_count', 'year', 'day', 'month',\n",
              "       'weekday', 'hour', 'distance', 'geopyDesic_dist', 'geopyGrtCir_dist'],\n",
              "      dtype='object')"
            ]
          },
          "execution_count": 343,
          "metadata": {},
          "output_type": "execute_result"
        }
      ]
    },
    {
      "cell_type": "code",
      "metadata": {
        "id": "6ca279de"
      },
      "source": [
        "a=rf1.predict(df3_test[selected_cols])"
      ],
      "id": "6ca279de",
      "execution_count": null,
      "outputs": []
    },
    {
      "cell_type": "code",
      "metadata": {
        "id": "8eddc1d9",
        "outputId": "b3ba12ca-0756-4659-f473-654c1a533524"
      },
      "source": [
        "a[:100]"
      ],
      "id": "8eddc1d9",
      "execution_count": null,
      "outputs": [
        {
          "data": {
            "text/plain": [
              "array([73.13113351, 73.13113351, 71.48955307, 73.13113351, 73.13113351,\n",
              "       73.13113351, 74.49056931, 73.13113351, 73.13113351, 73.13113351,\n",
              "       73.13113351, 73.13113351, 69.77531364, 72.85336079, 73.13113351,\n",
              "       73.13113351, 89.1071986 , 73.13113351, 69.1214756 , 74.46375151,\n",
              "       73.13113351, 73.13113351, 73.13113351, 73.13113351, 73.13113351,\n",
              "       73.13113351, 73.13113351, 73.13113351, 73.13113351, 73.13113351,\n",
              "       73.13113351, 73.13113351, 73.13113351, 73.13113351, 73.13113351,\n",
              "       73.13113351, 73.13113351, 73.13113351, 73.13113351, 70.05308635,\n",
              "       73.13113351, 73.13113351, 73.13113351, 73.13113351, 72.51113722,\n",
              "       73.13113351, 74.49056931, 73.13113351, 73.13113351, 70.05308635,\n",
              "       73.13113351, 73.13113351, 73.13113351, 73.13113351, 73.13113351,\n",
              "       73.13113351, 73.13113351, 73.13113351, 73.13113351, 73.13113351,\n",
              "       73.13113351, 73.13113351, 69.25196449, 74.1117836 , 73.13113351,\n",
              "       73.13113351, 73.13113351, 73.13113351, 72.51113722, 73.13113351,\n",
              "       73.13113351, 70.05308635, 73.13113351, 73.13113351, 73.13113351,\n",
              "       73.13113351, 73.13113351, 91.81563383, 74.46375151, 69.62785657,\n",
              "       73.13113351, 73.13113351, 73.13113351, 73.13113351, 73.13113351,\n",
              "       73.13113351, 74.46375151, 73.13113351, 73.13113351, 73.13113351,\n",
              "       73.13113351, 73.13113351, 73.13113351, 73.13113351, 73.13113351,\n",
              "       73.13113351, 73.13113351, 73.13113351, 73.13113351, 73.13113351])"
            ]
          },
          "execution_count": 372,
          "metadata": {},
          "output_type": "execute_result"
        }
      ]
    },
    {
      "cell_type": "code",
      "metadata": {
        "id": "efd95fe2",
        "outputId": "efdbc47f-fe78-4c6a-d08a-3ac9881287b9"
      },
      "source": [
        "df3_test"
      ],
      "id": "efd95fe2",
      "execution_count": null,
      "outputs": [
        {
          "data": {
            "text/html": [
              "<div>\n",
              "<style scoped>\n",
              "    .dataframe tbody tr th:only-of-type {\n",
              "        vertical-align: middle;\n",
              "    }\n",
              "\n",
              "    .dataframe tbody tr th {\n",
              "        vertical-align: top;\n",
              "    }\n",
              "\n",
              "    .dataframe thead th {\n",
              "        text-align: right;\n",
              "    }\n",
              "</style>\n",
              "<table border=\"1\" class=\"dataframe\">\n",
              "  <thead>\n",
              "    <tr style=\"text-align: right;\">\n",
              "      <th></th>\n",
              "      <th>key</th>\n",
              "      <th>pickup_longitude</th>\n",
              "      <th>pickup_latitude</th>\n",
              "      <th>dropoff_longitude</th>\n",
              "      <th>dropoff_latitude</th>\n",
              "      <th>passenger_count</th>\n",
              "      <th>year</th>\n",
              "      <th>day</th>\n",
              "      <th>month</th>\n",
              "      <th>weekday</th>\n",
              "      <th>hour</th>\n",
              "      <th>distance</th>\n",
              "      <th>geopyDesic_dist</th>\n",
              "      <th>geopyGrtCir_dist</th>\n",
              "    </tr>\n",
              "  </thead>\n",
              "  <tbody>\n",
              "    <tr>\n",
              "      <th>0</th>\n",
              "      <td>2015-01-27 13:08:24.0000002</td>\n",
              "      <td>-73.973320</td>\n",
              "      <td>40.763805</td>\n",
              "      <td>-73.981430</td>\n",
              "      <td>40.743835</td>\n",
              "      <td>1</td>\n",
              "      <td>2015</td>\n",
              "      <td>27</td>\n",
              "      <td>1</td>\n",
              "      <td>1</td>\n",
              "      <td>13</td>\n",
              "      <td>2.323358</td>\n",
              "      <td>2.320991</td>\n",
              "      <td>2.323263</td>\n",
              "    </tr>\n",
              "    <tr>\n",
              "      <th>1</th>\n",
              "      <td>2015-01-27 13:08:24.0000003</td>\n",
              "      <td>-73.986862</td>\n",
              "      <td>40.719383</td>\n",
              "      <td>-73.998886</td>\n",
              "      <td>40.739201</td>\n",
              "      <td>1</td>\n",
              "      <td>2015</td>\n",
              "      <td>27</td>\n",
              "      <td>1</td>\n",
              "      <td>1</td>\n",
              "      <td>13</td>\n",
              "      <td>2.425299</td>\n",
              "      <td>2.423802</td>\n",
              "      <td>2.425356</td>\n",
              "    </tr>\n",
              "    <tr>\n",
              "      <th>2</th>\n",
              "      <td>2011-10-08 11:53:44.0000002</td>\n",
              "      <td>-73.982521</td>\n",
              "      <td>40.751259</td>\n",
              "      <td>-73.979652</td>\n",
              "      <td>40.746140</td>\n",
              "      <td>1</td>\n",
              "      <td>2011</td>\n",
              "      <td>8</td>\n",
              "      <td>10</td>\n",
              "      <td>5</td>\n",
              "      <td>11</td>\n",
              "      <td>0.618403</td>\n",
              "      <td>0.617966</td>\n",
              "      <td>0.618413</td>\n",
              "    </tr>\n",
              "    <tr>\n",
              "      <th>3</th>\n",
              "      <td>2012-12-01 21:12:12.0000002</td>\n",
              "      <td>-73.981163</td>\n",
              "      <td>40.767807</td>\n",
              "      <td>-73.990448</td>\n",
              "      <td>40.751637</td>\n",
              "      <td>1</td>\n",
              "      <td>2012</td>\n",
              "      <td>1</td>\n",
              "      <td>12</td>\n",
              "      <td>5</td>\n",
              "      <td>21</td>\n",
              "      <td>1.960912</td>\n",
              "      <td>1.959416</td>\n",
              "      <td>1.960781</td>\n",
              "    </tr>\n",
              "    <tr>\n",
              "      <th>4</th>\n",
              "      <td>2012-12-01 21:12:12.0000003</td>\n",
              "      <td>-73.966049</td>\n",
              "      <td>40.789776</td>\n",
              "      <td>-73.988564</td>\n",
              "      <td>40.744427</td>\n",
              "      <td>1</td>\n",
              "      <td>2012</td>\n",
              "      <td>1</td>\n",
              "      <td>12</td>\n",
              "      <td>5</td>\n",
              "      <td>21</td>\n",
              "      <td>5.387211</td>\n",
              "      <td>5.382810</td>\n",
              "      <td>5.387288</td>\n",
              "    </tr>\n",
              "    <tr>\n",
              "      <th>...</th>\n",
              "      <td>...</td>\n",
              "      <td>...</td>\n",
              "      <td>...</td>\n",
              "      <td>...</td>\n",
              "      <td>...</td>\n",
              "      <td>...</td>\n",
              "      <td>...</td>\n",
              "      <td>...</td>\n",
              "      <td>...</td>\n",
              "      <td>...</td>\n",
              "      <td>...</td>\n",
              "      <td>...</td>\n",
              "      <td>...</td>\n",
              "      <td>...</td>\n",
              "    </tr>\n",
              "    <tr>\n",
              "      <th>9909</th>\n",
              "      <td>2015-05-10 12:37:51.0000002</td>\n",
              "      <td>-73.968124</td>\n",
              "      <td>40.796997</td>\n",
              "      <td>-73.955643</td>\n",
              "      <td>40.780388</td>\n",
              "      <td>6</td>\n",
              "      <td>2015</td>\n",
              "      <td>10</td>\n",
              "      <td>5</td>\n",
              "      <td>6</td>\n",
              "      <td>12</td>\n",
              "      <td>2.124599</td>\n",
              "      <td>2.124110</td>\n",
              "      <td>2.124877</td>\n",
              "    </tr>\n",
              "    <tr>\n",
              "      <th>9910</th>\n",
              "      <td>2015-01-12 17:05:51.0000001</td>\n",
              "      <td>-73.945511</td>\n",
              "      <td>40.803600</td>\n",
              "      <td>-73.960213</td>\n",
              "      <td>40.776371</td>\n",
              "      <td>6</td>\n",
              "      <td>2015</td>\n",
              "      <td>12</td>\n",
              "      <td>1</td>\n",
              "      <td>0</td>\n",
              "      <td>17</td>\n",
              "      <td>3.271138</td>\n",
              "      <td>3.268511</td>\n",
              "      <td>3.270974</td>\n",
              "    </tr>\n",
              "    <tr>\n",
              "      <th>9911</th>\n",
              "      <td>2015-04-19 20:44:15.0000001</td>\n",
              "      <td>-73.991600</td>\n",
              "      <td>40.726608</td>\n",
              "      <td>-73.789742</td>\n",
              "      <td>40.647011</td>\n",
              "      <td>6</td>\n",
              "      <td>2015</td>\n",
              "      <td>19</td>\n",
              "      <td>4</td>\n",
              "      <td>6</td>\n",
              "      <td>20</td>\n",
              "      <td>19.183577</td>\n",
              "      <td>19.217032</td>\n",
              "      <td>19.183968</td>\n",
              "    </tr>\n",
              "    <tr>\n",
              "      <th>9912</th>\n",
              "      <td>2015-01-31 01:05:19.0000005</td>\n",
              "      <td>-73.985573</td>\n",
              "      <td>40.735432</td>\n",
              "      <td>-73.939178</td>\n",
              "      <td>40.801731</td>\n",
              "      <td>6</td>\n",
              "      <td>2015</td>\n",
              "      <td>31</td>\n",
              "      <td>1</td>\n",
              "      <td>5</td>\n",
              "      <td>1</td>\n",
              "      <td>8.343392</td>\n",
              "      <td>8.339644</td>\n",
              "      <td>8.343498</td>\n",
              "    </tr>\n",
              "    <tr>\n",
              "      <th>9913</th>\n",
              "      <td>2015-01-18 14:06:23.0000006</td>\n",
              "      <td>-73.988022</td>\n",
              "      <td>40.754070</td>\n",
              "      <td>-74.000282</td>\n",
              "      <td>40.759220</td>\n",
              "      <td>6</td>\n",
              "      <td>2015</td>\n",
              "      <td>18</td>\n",
              "      <td>1</td>\n",
              "      <td>6</td>\n",
              "      <td>14</td>\n",
              "      <td>1.180814</td>\n",
              "      <td>1.182767</td>\n",
              "      <td>1.180827</td>\n",
              "    </tr>\n",
              "  </tbody>\n",
              "</table>\n",
              "<p>9914 rows × 14 columns</p>\n",
              "</div>"
            ],
            "text/plain": [
              "                              key  pickup_longitude  pickup_latitude  \\\n",
              "0     2015-01-27 13:08:24.0000002        -73.973320        40.763805   \n",
              "1     2015-01-27 13:08:24.0000003        -73.986862        40.719383   \n",
              "2     2011-10-08 11:53:44.0000002        -73.982521        40.751259   \n",
              "3     2012-12-01 21:12:12.0000002        -73.981163        40.767807   \n",
              "4     2012-12-01 21:12:12.0000003        -73.966049        40.789776   \n",
              "...                           ...               ...              ...   \n",
              "9909  2015-05-10 12:37:51.0000002        -73.968124        40.796997   \n",
              "9910  2015-01-12 17:05:51.0000001        -73.945511        40.803600   \n",
              "9911  2015-04-19 20:44:15.0000001        -73.991600        40.726608   \n",
              "9912  2015-01-31 01:05:19.0000005        -73.985573        40.735432   \n",
              "9913  2015-01-18 14:06:23.0000006        -73.988022        40.754070   \n",
              "\n",
              "      dropoff_longitude  dropoff_latitude  passenger_count  year  day  month  \\\n",
              "0            -73.981430         40.743835                1  2015   27      1   \n",
              "1            -73.998886         40.739201                1  2015   27      1   \n",
              "2            -73.979652         40.746140                1  2011    8     10   \n",
              "3            -73.990448         40.751637                1  2012    1     12   \n",
              "4            -73.988564         40.744427                1  2012    1     12   \n",
              "...                 ...               ...              ...   ...  ...    ...   \n",
              "9909         -73.955643         40.780388                6  2015   10      5   \n",
              "9910         -73.960213         40.776371                6  2015   12      1   \n",
              "9911         -73.789742         40.647011                6  2015   19      4   \n",
              "9912         -73.939178         40.801731                6  2015   31      1   \n",
              "9913         -74.000282         40.759220                6  2015   18      1   \n",
              "\n",
              "      weekday  hour   distance  geopyDesic_dist  geopyGrtCir_dist  \n",
              "0           1    13   2.323358         2.320991          2.323263  \n",
              "1           1    13   2.425299         2.423802          2.425356  \n",
              "2           5    11   0.618403         0.617966          0.618413  \n",
              "3           5    21   1.960912         1.959416          1.960781  \n",
              "4           5    21   5.387211         5.382810          5.387288  \n",
              "...       ...   ...        ...              ...               ...  \n",
              "9909        6    12   2.124599         2.124110          2.124877  \n",
              "9910        0    17   3.271138         3.268511          3.270974  \n",
              "9911        6    20  19.183577        19.217032         19.183968  \n",
              "9912        5     1   8.343392         8.339644          8.343498  \n",
              "9913        6    14   1.180814         1.182767          1.180827  \n",
              "\n",
              "[9914 rows x 14 columns]"
            ]
          },
          "execution_count": 373,
          "metadata": {},
          "output_type": "execute_result"
        }
      ]
    },
    {
      "cell_type": "code",
      "metadata": {
        "id": "4700a1aa"
      },
      "source": [
        "import numpy as np\n",
        "from sklearn.impute import SimpleImputer\n",
        "from sklearn.preprocessing import MinMaxScaler, OneHotEncoder\n",
        "from sklearn.model_selection import train_test_split\n",
        "\n",
        "# Identify input and target columns\n",
        "input_cols, target_col = df3.columns[1:], df3.columns[:1]\n",
        "inputs_df, targets = df3[input_cols].copy(), df3[target_col].copy()"
      ],
      "id": "4700a1aa",
      "execution_count": null,
      "outputs": []
    },
    {
      "cell_type": "code",
      "metadata": {
        "id": "2da1751f"
      },
      "source": [
        ""
      ],
      "id": "2da1751f",
      "execution_count": null,
      "outputs": []
    }
  ]
}